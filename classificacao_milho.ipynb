{
 "cells": [
  {
   "cell_type": "markdown",
   "id": "0b65da9c-3d15-4aa8-b001-bcc08a19caaf",
   "metadata": {},
   "source": [
    "# <center><b><font color='Green'>Identificação e classificação de doenças da folha do milho através do uso de Rede Neural Convolucional - Inteligência Artificial (EC37C)</font></b>"
   ]
  },
  {
   "cell_type": "markdown",
   "id": "2c4daefc-ee60-44f9-981b-32231086f94d",
   "metadata": {},
   "source": [
    "## **Autores**\n",
    "Lucas Paschoalick\n",
    "\n",
    "Luiz Felipe Alves Ferreira\n",
    "\n",
    "Vítor Ângelo Misciato Teixeira"
   ]
  },
  {
   "cell_type": "markdown",
   "id": "c5b2b01e-c047-40c5-b5e4-9257a13a19aa",
   "metadata": {},
   "source": [
    "## **Apresentação**\n",
    "Este notebook trata-se do estudo e implementação de um modelo baseado em CNN para classificar doenças presentes nas folhas do milho, desenvolvido como trabalho prático para a disciplina de Inteligência Artificial, ministrada na Universidade Tecnológica Federal do Paraná (UTFPR), *Campus* Cornélio Procópio. O conjunto de dados utilizado pode ser acessado a partir desse [link](https://www.kaggle.com/smaranjitghose/corn-or-maize-leaf-disease-dataset)."
   ]
  },
  {
   "cell_type": "markdown",
   "id": "1515cdf6-fbda-4780-9b8e-a46ec9991e6c",
   "metadata": {},
   "source": [
    "## **Importando pacotes e bibliotecas**"
   ]
  },
  {
   "cell_type": "code",
   "execution_count": 2,
   "id": "72ac1e05-be1d-45c1-a7d6-b0f9430f67f5",
   "metadata": {},
   "outputs": [],
   "source": [
    "import numpy as np\n",
    "import tensorflow as tf\n",
    "import matplotlib.pyplot as plt\n",
    "from pathlib import Path\n",
    "from sklearn.preprocessing import LabelEncoder\n",
    "from sklearn.model_selection import train_test_split\n",
    "from tensorflow.keras.layers.experimental.preprocessing import RandomFlip\n",
    "from tensorflow.keras.layers.experimental.preprocessing import RandomRotation\n",
    "from tensorflow.keras.layers.experimental.preprocessing import RandomZoom\n",
    "from tensorflow.keras.applications import EfficientNetB3, ResNet50, MobileNetV2\n",
    "from tensorflow.keras.optimizers import Adam\n",
    "from tensorflow.keras.metrics import Precision\n",
    "from tensorflow.keras.metrics import Recall"
   ]
  },
  {
   "cell_type": "code",
   "execution_count": 3,
   "id": "cf1d750b-9c2b-4bf3-ad98-df97bd6abdb7",
   "metadata": {},
   "outputs": [
    {
     "data": {
      "text/plain": [
       "'2.6.2'"
      ]
     },
     "execution_count": 3,
     "metadata": {},
     "output_type": "execute_result"
    }
   ],
   "source": [
    "# Seed para reprodutibilidade\n",
    "tf.random.set_seed(4)\n",
    "tf.__version__"
   ]
  },
  {
   "cell_type": "markdown",
   "id": "89d3ea77-49b9-4f0a-ae56-c2f5297d14bd",
   "metadata": {},
   "source": [
    "## **Importando dados de treino**"
   ]
  },
  {
   "cell_type": "code",
   "execution_count": 4,
   "id": "fd6cfc24-7a76-4713-aaff-4daaa75df797",
   "metadata": {},
   "outputs": [],
   "source": [
    "#Caminho dos dados\n",
    "caminho_dados_treino = Path(\"dados/treino\")"
   ]
  },
  {
   "cell_type": "code",
   "execution_count": 5,
   "id": "7f4c4fa6-49d1-42b7-8272-46f069224a44",
   "metadata": {},
   "outputs": [
    {
     "data": {
      "text/plain": [
       "[PosixPath('dados/treino/Blight/Corn_Blight (1).jpeg'),\n",
       " PosixPath('dados/treino/Blight/Corn_Blight (1).jpg'),\n",
       " PosixPath('dados/treino/Blight/Corn_Blight (10).jpg'),\n",
       " PosixPath('dados/treino/Blight/Corn_Blight (100).jpg'),\n",
       " PosixPath('dados/treino/Blight/Corn_Blight (101).jpg')]"
      ]
     },
     "execution_count": 5,
     "metadata": {},
     "output_type": "execute_result"
    }
   ],
   "source": [
    "#Todos as imagens\n",
    "imagens_treino = list(caminho_dados_treino.glob(\"*/*\"))\n",
    "imagens_treino[:5]               "
   ]
  },
  {
   "cell_type": "code",
   "execution_count": 6,
   "id": "2e4a4f97-2528-44e1-95c1-87ed7343cdcd",
   "metadata": {},
   "outputs": [
    {
     "data": {
      "text/plain": [
       "['dados/treino/Blight/Corn_Blight (1).jpeg',\n",
       " 'dados/treino/Blight/Corn_Blight (1).jpg',\n",
       " 'dados/treino/Blight/Corn_Blight (10).jpg',\n",
       " 'dados/treino/Blight/Corn_Blight (100).jpg',\n",
       " 'dados/treino/Blight/Corn_Blight (101).jpg']"
      ]
     },
     "execution_count": 6,
     "metadata": {},
     "output_type": "execute_result"
    }
   ],
   "source": [
    "#Retornando apenas a String do PosixPath\n",
    "imagens_treino = list(map(lambda x: str(x), imagens_treino))\n",
    "imagens_treino[:5]"
   ]
  },
  {
   "cell_type": "markdown",
   "id": "53dc1830-8d29-481a-9411-e23aed680950",
   "metadata": {},
   "source": [
    "## **Manipulando os dados**"
   ]
  },
  {
   "cell_type": "code",
   "execution_count": 7,
   "id": "210e144f-ccfd-41df-8470-729380c4e00d",
   "metadata": {},
   "outputs": [
    {
     "data": {
      "text/plain": [
       "['Blight', 'Blight', 'Blight', 'Blight', 'Blight']"
      ]
     },
     "execution_count": 7,
     "metadata": {},
     "output_type": "execute_result"
    }
   ],
   "source": [
    "#Extraindo os labels de cada classe\n",
    "imagens_treino_labels = [label.split(\"/\")[-2] for label in imagens_treino]\n",
    "imagens_treino_labels[:5]"
   ]
  },
  {
   "cell_type": "code",
   "execution_count": 8,
   "id": "efd4ad62-3ad4-42b2-bba9-1585be1d6d96",
   "metadata": {},
   "outputs": [
    {
     "data": {
      "text/plain": [
       "array([2, 2, 2, 2, 2, 2, 2, 2, 2, 2, 2, 2, 2, 2, 2, 2, 2, 2, 2, 2])"
      ]
     },
     "execution_count": 8,
     "metadata": {},
     "output_type": "execute_result"
    }
   ],
   "source": [
    "#Aplicando label enconding (transformação de dados categóricos para numéricos)\n",
    "encoder = LabelEncoder()\n",
    "imagens_treino_labels = encoder.fit_transform(imagens_treino_labels)\n",
    "imagens_treino_labels[1980:2000]"
   ]
  },
  {
   "cell_type": "code",
   "execution_count": 9,
   "id": "6f7d9dde-d9bc-4add-8755-a2a3290e4072",
   "metadata": {},
   "outputs": [
    {
     "data": {
      "text/plain": [
       "array([[0., 0., 1., 0.],\n",
       "       [0., 0., 1., 0.],\n",
       "       [0., 0., 1., 0.],\n",
       "       [0., 0., 1., 0.],\n",
       "       [0., 0., 1., 0.]], dtype=float32)"
      ]
     },
     "execution_count": 9,
     "metadata": {},
     "output_type": "execute_result"
    }
   ],
   "source": [
    "#One-hot-encoding (converte os valores em um vetor binário para cada um)\n",
    "imagens_treino_labels = tf.keras.utils.to_categorical(imagens_treino_labels)\n",
    "imagens_treino_labels[1995:2000]"
   ]
  },
  {
   "cell_type": "code",
   "execution_count": 10,
   "id": "002cd0a5-2e9e-4c67-8e30-8928b3a2f7eb",
   "metadata": {},
   "outputs": [],
   "source": [
    "#Dividindo o conjunto de dados em treino e validação (0.3 para teste)\n",
    "x_train, x_validation, y_train, y_validation = train_test_split(imagens_treino, imagens_treino_labels, test_size = 0.3, random_state = 42)"
   ]
  },
  {
   "cell_type": "code",
   "execution_count": 11,
   "id": "41dd7006-6b16-4017-ae53-539f7eeb4bfd",
   "metadata": {},
   "outputs": [
    {
     "name": "stdout",
     "output_type": "stream",
     "text": [
      "Tamanho do conjunto de treino:  2051\n",
      "Tamanho do conjunto de validação:  880\n"
     ]
    }
   ],
   "source": [
    "print(\"Tamanho do conjunto de treino: \", len(x_train))\n",
    "print(\"Tamanho do conjunto de validação: \", len(x_validation))"
   ]
  },
  {
   "cell_type": "code",
   "execution_count": 12,
   "id": "94d0cd83-0b82-4a50-95e4-76aa92d6bca7",
   "metadata": {},
   "outputs": [
    {
     "data": {
      "text/plain": [
       "['dados/treino/Blight/Corn_Blight (663).JPG',\n",
       " 'dados/treino/Common_Rust/Corn_Common_Rust (366).JPG',\n",
       " 'dados/treino/Blight/Corn_Blight (349).JPG',\n",
       " 'dados/treino/Common_Rust/Corn_Common_Rust (442).JPG',\n",
       " 'dados/treino/Blight/Corn_Blight (372).JPG',\n",
       " 'dados/treino/Common_Rust/Corn_Common_Rust (739).JPG',\n",
       " 'dados/treino/Common_Rust/Corn_Common_Rust (906).JPG',\n",
       " 'dados/treino/Common_Rust/Corn_Common_Rust (324).JPG',\n",
       " 'dados/treino/Blight/Corn_Blight (48).jpg',\n",
       " 'dados/treino/Blight/Corn_Blight (533).JPG']"
      ]
     },
     "execution_count": 12,
     "metadata": {},
     "output_type": "execute_result"
    }
   ],
   "source": [
    "x_train[20:30]"
   ]
  },
  {
   "cell_type": "code",
   "execution_count": 13,
   "id": "4dde48bb-1d98-46f3-b3ec-76a910886046",
   "metadata": {},
   "outputs": [
    {
     "data": {
      "text/plain": [
       "array([[1., 0., 0., 0.],\n",
       "       [0., 1., 0., 0.],\n",
       "       [1., 0., 0., 0.],\n",
       "       [0., 1., 0., 0.],\n",
       "       [1., 0., 0., 0.],\n",
       "       [0., 1., 0., 0.],\n",
       "       [0., 1., 0., 0.],\n",
       "       [0., 1., 0., 0.],\n",
       "       [1., 0., 0., 0.],\n",
       "       [1., 0., 0., 0.]], dtype=float32)"
      ]
     },
     "execution_count": 13,
     "metadata": {},
     "output_type": "execute_result"
    }
   ],
   "source": [
    "y_train[20:30]"
   ]
  },
  {
   "cell_type": "markdown",
   "id": "816f8271-662e-4cca-89be-085f61365a39",
   "metadata": {},
   "source": [
    "## **Dataset Augmentation - Parâmetros**"
   ]
  },
  {
   "cell_type": "code",
   "execution_count": 15,
   "id": "d2d1e853-6ab2-4135-b65a-0113db625ca5",
   "metadata": {},
   "outputs": [],
   "source": [
    "# Redimensionamento de todas as imagens para 224 x 224\n",
    "img_size = 224\n",
    "resize = tf.keras.Sequential([tf.keras.layers.experimental.preprocessing.Resizing(img_size, img_size)])"
   ]
  },
  {
   "cell_type": "code",
   "execution_count": 16,
   "id": "0a636643-be7e-4451-860c-0fd64e03e8bf",
   "metadata": {},
   "outputs": [],
   "source": [
    "# Cria o objeto para dataset augmentation\n",
    "data_augmentation = tf.keras.Sequential([RandomFlip(\"horizontal\"),\n",
    "                                         RandomRotation(0.2),\n",
    "                                         RandomZoom(height_factor = (-0.3,-0.2)) ])"
   ]
  },
  {
   "cell_type": "markdown",
   "id": "40352904-4b66-48bf-acee-001b58be69d8",
   "metadata": {},
   "source": [
    "## **Preparando os dados para o modelo**"
   ]
  },
  {
   "cell_type": "code",
   "execution_count": 17,
   "id": "839c185f-f36d-4ebb-b9d0-0ffe7e7cd452",
   "metadata": {},
   "outputs": [],
   "source": [
    "# Hiperparâmetros\n",
    "batch_size = 16\n",
    "autotune = tf.data.experimental.AUTOTUNE\n",
    "AUTOTUNE = tf.data.AUTOTUNE"
   ]
  },
  {
   "cell_type": "code",
   "execution_count": 18,
   "id": "438ede22-f752-4aaf-8b86-6162d3ef9782",
   "metadata": {},
   "outputs": [],
   "source": [
    "# Função para carregar e transformar as imagens\n",
    "def carrega_transforma(image, label):\n",
    "    image = tf.io.read_file(image)\n",
    "    image = tf.io.decode_jpeg(image, channels = 3)\n",
    "    return image, label"
   ]
  },
  {
   "cell_type": "code",
   "execution_count": 19,
   "id": "31480020-bcb7-4490-aacb-74ae795ea169",
   "metadata": {},
   "outputs": [],
   "source": [
    "# Função para preparar os dados noo formato do TensorFlow\n",
    "def prepara_dataset(path, labels, train = True):\n",
    "\n",
    "    # Prepara os dados\n",
    "    image_paths = tf.convert_to_tensor(path)\n",
    "    labels = tf.convert_to_tensor(labels)\n",
    "    image_dataset = tf.data.Dataset.from_tensor_slices(image_paths)\n",
    "    label_dataset = tf.data.Dataset.from_tensor_slices(labels)\n",
    "    dataset = tf.data.Dataset.zip((image_dataset, label_dataset))\n",
    "    dataset = dataset.map(lambda image, label: carrega_transforma(image, label))\n",
    "    dataset = dataset.map(lambda image, label: (resize(image), label), num_parallel_calls = autotune)\n",
    "    dataset = dataset.batch(batch_size)\n",
    "    dataset = dataset.cache().shuffle(1000).prefetch(buffer_size=AUTOTUNE)\n",
    "\n",
    "    # Se train = True aplica dataset augmentation\n",
    "    if train:\n",
    "        dataset = dataset.map(lambda image, label: (data_augmentation(image), label), num_parallel_calls = autotune)\n",
    "  \n",
    "    # Se train = False repete sobre o dataset e retorna\n",
    "    dataset = dataset.repeat()\n",
    "\n",
    "    return dataset"
   ]
  },
  {
   "cell_type": "code",
   "execution_count": 20,
   "id": "4c9fdc6a-e892-40fb-8b39-8ea332b0ac8f",
   "metadata": {},
   "outputs": [],
   "source": [
    "# Cria o dataset de treino - Primeiro sem aplicar data augmentation\n",
    "dataset_treino = prepara_dataset(x_train, y_train, train = True)"
   ]
  },
  {
   "cell_type": "code",
   "execution_count": 22,
   "id": "e326f0c4-85c9-4105-993f-95cac870aac3",
   "metadata": {},
   "outputs": [
    {
     "name": "stdout",
     "output_type": "stream",
     "text": [
      "(16, 224, 224, 3)\n",
      "(16, 4)\n"
     ]
    }
   ],
   "source": [
    "# Shape\n",
    "imagem, label = next(iter(dataset_treino))\n",
    "print(imagem.shape)\n",
    "print(label.shape)"
   ]
  },
  {
   "cell_type": "code",
   "execution_count": 23,
   "id": "b71f9291-8ff0-4e43-bf12-721c48b71687",
   "metadata": {},
   "outputs": [
    {
     "name": "stdout",
     "output_type": "stream",
     "text": [
      "Common_Rust\n"
     ]
    },
    {
     "data": {
      "text/plain": [
       "<matplotlib.image.AxesImage at 0x7fef0c12c0d0>"
      ]
     },
     "execution_count": 23,
     "metadata": {},
     "output_type": "execute_result"
    },
    {
     "data": {
      "image/png": "[encoded data removed]",
      "text/plain": [
       "<Figure size 432x288 with 1 Axes>"
      ]
     },
     "metadata": {
      "needs_background": "light"
     },
     "output_type": "display_data"
    }
   ],
   "source": [
    "#Visualizando primeira imagem e label\n",
    "print(encoder.inverse_transform(np.argmax(label, axis = 1))[0])\n",
    "plt.imshow(imagem[0].numpy().astype(\"uint8\"))"
   ]
  },
  {
   "cell_type": "code",
   "execution_count": 24,
   "id": "b1c993ac-9fac-4370-87ba-4d715eb6e78b",
   "metadata": {},
   "outputs": [],
   "source": [
    "# Cria o dataset de validação\n",
    "dataset_validation = prepara_dataset(x_validation, y_validation, train = False)"
   ]
  },
  {
   "cell_type": "markdown",
   "id": "4f329954-5410-4234-8bb5-e47875fe09c0",
   "metadata": {},
   "source": [
    "## **Construção dos Modelos**"
   ]
  },
  {
   "cell_type": "code",
   "execution_count": 25,
   "id": "19e5da47-f119-4600-abeb-240313f5906a",
   "metadata": {},
   "outputs": [],
   "source": [
    "# Hiperparâmetros - Que por sinal os valores já são os default\n",
    "lr = 0.001\n",
    "beta1 = 0.9\n",
    "beta2 = 0.999\n",
    "ep = 1e-07"
   ]
  },
  {
   "cell_type": "markdown",
   "id": "b785939c-4cd7-4851-92fa-0553b1866821",
   "metadata": {},
   "source": [
    "### **EfficientNetB3**"
   ]
  },
  {
   "cell_type": "markdown",
   "id": "763c0169-eca5-4de1-8e31-e9ad4f7890e1",
   "metadata": {},
   "source": [
    "#### **Modelo 1**"
   ]
  },
  {
   "cell_type": "code",
   "execution_count": 133,
   "id": "3f3df5d0-79dd-4e10-836a-3078a9c752f9",
   "metadata": {},
   "outputs": [],
   "source": [
    "# Carregando um modelo pré-treinado\n",
    "modelo_pre_b3 = EfficientNetB3(input_shape = (224,224,3), include_top = False)\n",
    "modelo_pre_b3.trainable = False\n",
    "preprocess_input_b3 = tf.keras.applications.efficientnet.preprocess_input\n",
    "global_average_layer = tf.keras.layers.GlobalAveragePooling2D()\n",
    "prediction_layer = tf.keras.layers.Dense(4, activation = 'softmax')"
   ]
  },
  {
   "cell_type": "code",
   "execution_count": 86,
   "id": "549eda9c-9f5b-4aba-a9f6-8968c238087c",
   "metadata": {},
   "outputs": [],
   "source": [
    "#Modelo 1\n",
    "inputs = tf.keras.Input(shape=(224, 224, 3))\n",
    "x = preprocess_input_b3(inputs)\n",
    "x = modelo_pre_b3(x, training=False)\n",
    "x = global_average_layer(x)\n",
    "#x = tf.keras.layers.Dropout(0.2)(x)\n",
    "outputs = prediction_layer(x)\n",
    "modelo_b3_1 = tf.keras.Model(inputs, outputs)"
   ]
  },
  {
   "cell_type": "code",
   "execution_count": 69,
   "id": "1499e16d-2550-4d3d-8648-c00b7529376a",
   "metadata": {},
   "outputs": [
    {
     "name": "stdout",
     "output_type": "stream",
     "text": [
      "Model: \"model_1\"\n",
      "_________________________________________________________________\n",
      "Layer (type)                 Output Shape              Param #   \n",
      "=================================================================\n",
      "input_7 (InputLayer)         [(None, 224, 224, 3)]     0         \n",
      "_________________________________________________________________\n",
      "efficientnetb3 (Functional)  (None, 7, 7, 1536)        10783535  \n",
      "_________________________________________________________________\n",
      "global_average_pooling2d_2 ( (None, 1536)              0         \n",
      "_________________________________________________________________\n",
      "dense_2 (Dense)              (None, 4)                 6148      \n",
      "=================================================================\n",
      "Total params: 10,789,683\n",
      "Trainable params: 6,148\n",
      "Non-trainable params: 10,783,535\n",
      "_________________________________________________________________\n"
     ]
    }
   ],
   "source": [
    "modelo_b3_1.summary()"
   ]
  },
  {
   "cell_type": "code",
   "execution_count": 70,
   "id": "bd1df465-8cc4-4794-947e-dec3a53cff9c",
   "metadata": {},
   "outputs": [],
   "source": [
    "# Compilação do modelo\n",
    "modelo_b3_1.compile(optimizer = Adam(learning_rate = lr, \n",
    "                                beta_1 = beta1, \n",
    "                                beta_2 = beta2, \n",
    "                                epsilon = ep),\n",
    "                                loss = 'categorical_crossentropy',\n",
    "                                metrics = ['accuracy', Precision(name = 'precision'), Recall(name = 'recall')])"
   ]
  },
  {
   "cell_type": "code",
   "execution_count": 71,
   "id": "5f289638-a4c4-4f8e-9d61-71e839f6fef5",
   "metadata": {},
   "outputs": [],
   "source": [
    "# Checkpoint\n",
    "checkpoint_b3_1 = tf.keras.callbacks.ModelCheckpoint(\"modelo/modelob3_1.h5\", \n",
    "                                                verbose = 1, \n",
    "                                                save_best = True, \n",
    "                                                save_weights_only = True)"
   ]
  },
  {
   "cell_type": "markdown",
   "id": "31106a65-0742-4dd0-8850-e5d2aa73e012",
   "metadata": {},
   "source": [
    "#### **Modelo 2**"
   ]
  },
  {
   "cell_type": "code",
   "execution_count": 26,
   "id": "f570633f-a542-4fda-ab75-0a85f801cfb8",
   "metadata": {},
   "outputs": [],
   "source": [
    "# Carregando um modelo pré-treinado\n",
    "modelo_pre_b3 = EfficientNetB3(input_shape = (224,224,3), include_top = False)\n",
    "modelo_pre_b3.trainable = False\n",
    "preprocess_input_b3 = tf.keras.applications.efficientnet.preprocess_input\n",
    "global_average_layer = tf.keras.layers.GlobalAveragePooling2D()\n",
    "prediction_layer = tf.keras.layers.Dense(4, activation = 'softmax')"
   ]
  },
  {
   "cell_type": "code",
   "execution_count": 122,
   "id": "d45959ba-9bd9-47d8-b567-44a4d6bd4d4a",
   "metadata": {},
   "outputs": [],
   "source": [
    "#Modelo 2\n",
    "inputs = tf.keras.Input(shape=(224, 224, 3))\n",
    "x = preprocess_input_b3(inputs)\n",
    "x = modelo_pre_b3(x, training=False)\n",
    "x = global_average_layer(x)\n",
    "x = tf.keras.layers.Dropout(0.2)(x)\n",
    "outputs = prediction_layer(x)\n",
    "modelo_b3_2 = tf.keras.Model(inputs, outputs)"
   ]
  },
  {
   "cell_type": "code",
   "execution_count": 123,
   "id": "7fd8ff86-87ab-472f-b75f-26f1f1f22b6a",
   "metadata": {},
   "outputs": [
    {
     "name": "stdout",
     "output_type": "stream",
     "text": [
      "Model: \"model_6\"\n",
      "_________________________________________________________________\n",
      "Layer (type)                 Output Shape              Param #   \n",
      "=================================================================\n",
      "input_22 (InputLayer)        [(None, 224, 224, 3)]     0         \n",
      "_________________________________________________________________\n",
      "efficientnetb3 (Functional)  (None, 7, 7, 1536)        10783535  \n",
      "_________________________________________________________________\n",
      "global_average_pooling2d_8 ( (None, 1536)              0         \n",
      "_________________________________________________________________\n",
      "dropout (Dropout)            (None, 1536)              0         \n",
      "_________________________________________________________________\n",
      "dense_8 (Dense)              (None, 4)                 6148      \n",
      "=================================================================\n",
      "Total params: 10,789,683\n",
      "Trainable params: 6,148\n",
      "Non-trainable params: 10,783,535\n",
      "_________________________________________________________________\n"
     ]
    }
   ],
   "source": [
    "modelo_b3_2.summary()"
   ]
  },
  {
   "cell_type": "code",
   "execution_count": 124,
   "id": "6be2dea1-2895-4c22-9dfd-e9c7f35b7d2e",
   "metadata": {},
   "outputs": [],
   "source": [
    "# Compilação do modelo\n",
    "modelo_b3_2.compile(optimizer = Adam(learning_rate = lr, \n",
    "                                beta_1 = beta1, \n",
    "                                beta_2 = beta2, \n",
    "                                epsilon = ep),\n",
    "                                loss = 'categorical_crossentropy',\n",
    "                                metrics = ['accuracy', Precision(name = 'precision'), Recall(name = 'recall')])"
   ]
  },
  {
   "cell_type": "code",
   "execution_count": 125,
   "id": "42b4a165-a8d0-41bd-b990-dcf63e8947e9",
   "metadata": {},
   "outputs": [],
   "source": [
    "# Checkpoint\n",
    "checkpoint_b3_2 = tf.keras.callbacks.ModelCheckpoint(\"modelo/modelob3_2.h5\", \n",
    "                                                verbose = 1, \n",
    "                                                save_best = True, \n",
    "                                                save_weights_only = True)"
   ]
  },
  {
   "cell_type": "markdown",
   "id": "575d8f33-a427-48dd-85ee-55d93356a2d1",
   "metadata": {},
   "source": [
    "#### **Modelo 3**"
   ]
  },
  {
   "cell_type": "code",
   "execution_count": 27,
   "id": "7394690e-fd92-454e-9d20-ef51ec978212",
   "metadata": {},
   "outputs": [],
   "source": [
    "# Carregando um modelo pré-treinado\n",
    "modelo_pre_b3 = EfficientNetB3(input_shape = (224,224,3), include_top = False)\n",
    "modelo_pre_b3.trainable = False\n",
    "preprocess_input_b3 = tf.keras.applications.efficientnet.preprocess_input\n",
    "global_average_layer = tf.keras.layers.GlobalAveragePooling2D()\n",
    "prediction_layer = tf.keras.layers.Dense(4, activation = 'softmax')"
   ]
  },
  {
   "cell_type": "code",
   "execution_count": 134,
   "id": "b6e3d9c7-ce3f-42cb-9f20-d1b6e435952d",
   "metadata": {},
   "outputs": [],
   "source": [
    "#Modelo 3\n",
    "inputs = tf.keras.Input(shape=(224, 224, 3))\n",
    "x = preprocess_input_b3(inputs)\n",
    "x = modelo_pre_b3(x, training=False)\n",
    "x = global_average_layer(x)\n",
    "x = tf.keras.layers.Dropout(0.8)(x)\n",
    "outputs = prediction_layer(x)\n",
    "modelo_b3_3 = tf.keras.Model(inputs, outputs)"
   ]
  },
  {
   "cell_type": "code",
   "execution_count": 135,
   "id": "f8e587b8-0e93-47b2-abdc-e249e8418925",
   "metadata": {},
   "outputs": [
    {
     "name": "stdout",
     "output_type": "stream",
     "text": [
      "Model: \"model_7\"\n",
      "_________________________________________________________________\n",
      "Layer (type)                 Output Shape              Param #   \n",
      "=================================================================\n",
      "input_24 (InputLayer)        [(None, 224, 224, 3)]     0         \n",
      "_________________________________________________________________\n",
      "efficientnetb3 (Functional)  (None, 7, 7, 1536)        10783535  \n",
      "_________________________________________________________________\n",
      "global_average_pooling2d_9 ( (None, 1536)              0         \n",
      "_________________________________________________________________\n",
      "dropout_1 (Dropout)          (None, 1536)              0         \n",
      "_________________________________________________________________\n",
      "dense_9 (Dense)              (None, 4)                 6148      \n",
      "=================================================================\n",
      "Total params: 10,789,683\n",
      "Trainable params: 6,148\n",
      "Non-trainable params: 10,783,535\n",
      "_________________________________________________________________\n"
     ]
    }
   ],
   "source": [
    "modelo_b3_3.summary()"
   ]
  },
  {
   "cell_type": "code",
   "execution_count": 136,
   "id": "3e138e1f-6c87-4dcf-bee8-3c7168e8cbda",
   "metadata": {},
   "outputs": [],
   "source": [
    "# Compilação do modelo\n",
    "modelo_b3_3.compile(optimizer = Adam(learning_rate = lr, \n",
    "                                beta_1 = beta1, \n",
    "                                beta_2 = beta2, \n",
    "                                epsilon = ep),\n",
    "                                loss = 'categorical_crossentropy',\n",
    "                                metrics = ['accuracy', Precision(name = 'precision'), Recall(name = 'recall')])"
   ]
  },
  {
   "cell_type": "code",
   "execution_count": 137,
   "id": "a4f2d59c-e686-4462-a999-f9430a5ca945",
   "metadata": {},
   "outputs": [],
   "source": [
    "# Checkpoint\n",
    "checkpoint_b3_3 = tf.keras.callbacks.ModelCheckpoint(\"modelo/modelob3_3.h5\", \n",
    "                                                verbose = 1, \n",
    "                                                save_best = True, \n",
    "                                                save_weights_only = True)"
   ]
  },
  {
   "cell_type": "markdown",
   "id": "9de36df4-cfd9-4a68-a82b-387c2efdc184",
   "metadata": {},
   "source": [
    "### **ResNet50**"
   ]
  },
  {
   "cell_type": "markdown",
   "id": "85791a41-ddd4-455c-bc13-e4f7799148dd",
   "metadata": {},
   "source": [
    "#### **Modelo 1**"
   ]
  },
  {
   "cell_type": "code",
   "execution_count": 177,
   "id": "783b98ef-49ab-498d-970a-84fb779a0416",
   "metadata": {},
   "outputs": [],
   "source": [
    "# Carregando um modelo pré-treinado\n",
    "modelo_pre_res = ResNet50(input_shape = (224,224,3), include_top = False)\n",
    "modelo_pre_res.trainable = False\n",
    "preprocess_input_res = tf.keras.applications.resnet50.preprocess_input\n",
    "global_average_layer = tf.keras.layers.GlobalAveragePooling2D()\n",
    "prediction_layer = tf.keras.layers.Dense(4, activation = 'softmax')"
   ]
  },
  {
   "cell_type": "code",
   "execution_count": 93,
   "id": "933dfb68-b23e-4fef-aea8-a07b862e4465",
   "metadata": {},
   "outputs": [],
   "source": [
    "#Modelo 1\n",
    "inputs = tf.keras.Input(shape=(224, 224, 3))\n",
    "x = preprocess_input_res(inputs)\n",
    "x = modelo_pre_res(x, training=False)\n",
    "x = global_average_layer(x)\n",
    "#x = tf.keras.layers.Dropout(0.2)(x)\n",
    "outputs = prediction_layer(x)\n",
    "modelo_res_1 = tf.keras.Model(inputs, outputs)"
   ]
  },
  {
   "cell_type": "code",
   "execution_count": 94,
   "id": "d62e85c9-56b6-44b9-9f4d-90251c5de616",
   "metadata": {},
   "outputs": [
    {
     "name": "stdout",
     "output_type": "stream",
     "text": [
      "Model: \"model_4\"\n",
      "_________________________________________________________________\n",
      "Layer (type)                 Output Shape              Param #   \n",
      "=================================================================\n",
      "input_17 (InputLayer)        [(None, 224, 224, 3)]     0         \n",
      "_________________________________________________________________\n",
      "tf.__operators__.getitem_2 ( (None, 224, 224, 3)       0         \n",
      "_________________________________________________________________\n",
      "tf.nn.bias_add_2 (TFOpLambda (None, 224, 224, 3)       0         \n",
      "_________________________________________________________________\n",
      "resnet50 (Functional)        (None, 7, 7, 2048)        23587712  \n",
      "_________________________________________________________________\n",
      "global_average_pooling2d_5 ( (None, 2048)              0         \n",
      "_________________________________________________________________\n",
      "dense_5 (Dense)              (None, 4)                 8196      \n",
      "=================================================================\n",
      "Total params: 23,595,908\n",
      "Trainable params: 8,196\n",
      "Non-trainable params: 23,587,712\n",
      "_________________________________________________________________\n"
     ]
    }
   ],
   "source": [
    "modelo_res_1.summary()"
   ]
  },
  {
   "cell_type": "code",
   "execution_count": 95,
   "id": "d551ccb2-6ca9-482e-9570-c6cd25fdcff8",
   "metadata": {},
   "outputs": [],
   "source": [
    "# Compilação do modelo\n",
    "modelo_res_1.compile(optimizer = Adam(learning_rate = lr, \n",
    "                                beta_1 = beta1, \n",
    "                                beta_2 = beta2, \n",
    "                                epsilon = ep),\n",
    "                                loss = 'categorical_crossentropy',\n",
    "                                metrics = ['accuracy', Precision(name = 'precision'), Recall(name = 'recall')])"
   ]
  },
  {
   "cell_type": "code",
   "execution_count": 96,
   "id": "c9d45f0f-d3bd-4eaa-8541-02f0a0f00c16",
   "metadata": {},
   "outputs": [],
   "source": [
    "# Checkpoint\n",
    "checkpoint_res_1 = tf.keras.callbacks.ModelCheckpoint(\"modelo/modelo_res_1.h5\", \n",
    "                                                verbose = 1, \n",
    "                                                save_best = True, \n",
    "                                                save_weights_only = True)"
   ]
  },
  {
   "cell_type": "markdown",
   "id": "e902c898-c535-45fb-a27c-f54be78bd673",
   "metadata": {},
   "source": [
    "#### **Modelo 2**"
   ]
  },
  {
   "cell_type": "code",
   "execution_count": 31,
   "id": "c1026b78-e03d-4beb-af4e-3e81c5e79a79",
   "metadata": {},
   "outputs": [],
   "source": [
    "# Carregando um modelo pré-treinado\n",
    "modelo_pre_res = ResNet50(input_shape = (224,224,3), include_top = False)\n",
    "modelo_pre_res.trainable = False\n",
    "preprocess_input_res = tf.keras.applications.resnet50.preprocess_input\n",
    "global_average_layer = tf.keras.layers.GlobalAveragePooling2D()\n",
    "prediction_layer = tf.keras.layers.Dense(4, activation = 'softmax')"
   ]
  },
  {
   "cell_type": "code",
   "execution_count": 144,
   "id": "6048efae-fd3b-4403-a98f-a9196c1d5b56",
   "metadata": {},
   "outputs": [],
   "source": [
    "#Modelo 2\n",
    "inputs = tf.keras.Input(shape=(224, 224, 3))\n",
    "x = preprocess_input_res(inputs)\n",
    "x = modelo_pre_res(x, training=False)\n",
    "x = global_average_layer(x)\n",
    "x = tf.keras.layers.Dropout(0.2)(x)\n",
    "outputs = prediction_layer(x)\n",
    "modelo_res_2 = tf.keras.Model(inputs, outputs)"
   ]
  },
  {
   "cell_type": "code",
   "execution_count": 145,
   "id": "8890580d-8f2f-4e9f-b59f-863c42cc97c8",
   "metadata": {},
   "outputs": [
    {
     "name": "stdout",
     "output_type": "stream",
     "text": [
      "Model: \"model_8\"\n",
      "_________________________________________________________________\n",
      "Layer (type)                 Output Shape              Param #   \n",
      "=================================================================\n",
      "input_26 (InputLayer)        [(None, 224, 224, 3)]     0         \n",
      "_________________________________________________________________\n",
      "tf.__operators__.getitem_3 ( (None, 224, 224, 3)       0         \n",
      "_________________________________________________________________\n",
      "tf.nn.bias_add_3 (TFOpLambda (None, 224, 224, 3)       0         \n",
      "_________________________________________________________________\n",
      "resnet50 (Functional)        (None, 7, 7, 2048)        23587712  \n",
      "_________________________________________________________________\n",
      "global_average_pooling2d_10  (None, 2048)              0         \n",
      "_________________________________________________________________\n",
      "dropout_2 (Dropout)          (None, 2048)              0         \n",
      "_________________________________________________________________\n",
      "dense_10 (Dense)             (None, 4)                 8196      \n",
      "=================================================================\n",
      "Total params: 23,595,908\n",
      "Trainable params: 8,196\n",
      "Non-trainable params: 23,587,712\n",
      "_________________________________________________________________\n"
     ]
    }
   ],
   "source": [
    "modelo_res_2.summary()"
   ]
  },
  {
   "cell_type": "code",
   "execution_count": 146,
   "id": "3d3aa1d3-b672-44c2-bbde-97a8f79ad13a",
   "metadata": {},
   "outputs": [],
   "source": [
    "# Compilação do modelo\n",
    "modelo_res_2.compile(optimizer = Adam(learning_rate = lr, \n",
    "                                beta_1 = beta1, \n",
    "                                beta_2 = beta2, \n",
    "                                epsilon = ep),\n",
    "                                loss = 'categorical_crossentropy',\n",
    "                                metrics = ['accuracy', Precision(name = 'precision'), Recall(name = 'recall')])"
   ]
  },
  {
   "cell_type": "code",
   "execution_count": 147,
   "id": "12d87f20-f04e-4fa5-9760-03f762862972",
   "metadata": {},
   "outputs": [],
   "source": [
    "# Checkpoint\n",
    "checkpoint_res_2 = tf.keras.callbacks.ModelCheckpoint(\"modelo/modelo_res_2.h5\", \n",
    "                                                verbose = 1, \n",
    "                                                save_best = True, \n",
    "                                                save_weights_only = True)"
   ]
  },
  {
   "cell_type": "markdown",
   "id": "85876d41-d29f-429e-8ce3-b82fb3d9051e",
   "metadata": {},
   "source": [
    "#### **Modelo 3**"
   ]
  },
  {
   "cell_type": "code",
   "execution_count": 32,
   "id": "02bd1c71-a297-4b59-9b5e-72d1298c012d",
   "metadata": {},
   "outputs": [],
   "source": [
    "# Carregando um modelo pré-treinado\n",
    "modelo_pre_res = ResNet50(input_shape = (224,224,3), include_top = False)\n",
    "modelo_pre_res.trainable = False\n",
    "preprocess_input_res = tf.keras.applications.resnet50.preprocess_input\n",
    "global_average_layer = tf.keras.layers.GlobalAveragePooling2D()\n",
    "prediction_layer = tf.keras.layers.Dense(4, activation = 'softmax')"
   ]
  },
  {
   "cell_type": "code",
   "execution_count": 178,
   "id": "4b83f91a-fa37-4cc4-95ee-01de63a4ceee",
   "metadata": {},
   "outputs": [],
   "source": [
    "#Modelo 3\n",
    "inputs = tf.keras.Input(shape=(224, 224, 3))\n",
    "x = preprocess_input_res(inputs)\n",
    "x = modelo_pre_res(x, training=False)\n",
    "x = global_average_layer(x)\n",
    "x = tf.keras.layers.Dropout(0.8)(x)\n",
    "outputs = prediction_layer(x)\n",
    "modelo_res_3 = tf.keras.Model(inputs, outputs)"
   ]
  },
  {
   "cell_type": "code",
   "execution_count": 179,
   "id": "698ef533-3465-4da8-9cfc-196f1b0f5eb4",
   "metadata": {},
   "outputs": [
    {
     "name": "stdout",
     "output_type": "stream",
     "text": [
      "Model: \"model_11\"\n",
      "_________________________________________________________________\n",
      "Layer (type)                 Output Shape              Param #   \n",
      "=================================================================\n",
      "input_33 (InputLayer)        [(None, 224, 224, 3)]     0         \n",
      "_________________________________________________________________\n",
      "tf.__operators__.getitem_4 ( (None, 224, 224, 3)       0         \n",
      "_________________________________________________________________\n",
      "tf.nn.bias_add_4 (TFOpLambda (None, 224, 224, 3)       0         \n",
      "_________________________________________________________________\n",
      "resnet50 (Functional)        (None, 7, 7, 2048)        23587712  \n",
      "_________________________________________________________________\n",
      "global_average_pooling2d_14  (None, 2048)              0         \n",
      "_________________________________________________________________\n",
      "dropout_5 (Dropout)          (None, 2048)              0         \n",
      "_________________________________________________________________\n",
      "dense_14 (Dense)             (None, 4)                 8196      \n",
      "=================================================================\n",
      "Total params: 23,595,908\n",
      "Trainable params: 8,196\n",
      "Non-trainable params: 23,587,712\n",
      "_________________________________________________________________\n"
     ]
    }
   ],
   "source": [
    "modelo_res_3.summary()"
   ]
  },
  {
   "cell_type": "code",
   "execution_count": 180,
   "id": "9f553188-e7d6-4f4d-b314-cf9555acb326",
   "metadata": {},
   "outputs": [],
   "source": [
    "# Compilação do modelo\n",
    "modelo_res_3.compile(optimizer = Adam(learning_rate = lr, \n",
    "                                beta_1 = beta1, \n",
    "                                beta_2 = beta2, \n",
    "                                epsilon = ep),\n",
    "                                loss = 'categorical_crossentropy',\n",
    "                                metrics = ['accuracy', Precision(name = 'precision'), Recall(name = 'recall')])"
   ]
  },
  {
   "cell_type": "code",
   "execution_count": 181,
   "id": "e3c3caca-00f9-45c8-aed6-ce4a840575c7",
   "metadata": {},
   "outputs": [],
   "source": [
    "# Checkpoint\n",
    "checkpoint_res_3 = tf.keras.callbacks.ModelCheckpoint(\"modelo/modelo_res_3.h5\", \n",
    "                                                verbose = 1, \n",
    "                                                save_best = True, \n",
    "                                                save_weights_only = True)"
   ]
  },
  {
   "cell_type": "markdown",
   "id": "4f980cec-2240-431a-a757-70ada9e7f12b",
   "metadata": {},
   "source": [
    "### **MobileNetV2**"
   ]
  },
  {
   "cell_type": "markdown",
   "id": "55be1844-7ef6-4c01-b053-4f757c6dd37e",
   "metadata": {},
   "source": [
    "#### **Modelo 1**"
   ]
  },
  {
   "cell_type": "code",
   "execution_count": 164,
   "id": "dc651fc4-5d72-493a-8cd0-84341b13f896",
   "metadata": {},
   "outputs": [],
   "source": [
    "# Carregando um modelo pré-treinado\n",
    "modelo_pre_mob = MobileNetV2(input_shape = (224,224,3), include_top = False)\n",
    "modelo_pre_mob.trainable = False\n",
    "preprocess_input_mob = tf.keras.applications.mobilenet_v2.preprocess_input\n",
    "global_average_layer = tf.keras.layers.GlobalAveragePooling2D()\n",
    "prediction_layer = tf.keras.layers.Dense(4, activation = 'softmax')"
   ]
  },
  {
   "cell_type": "code",
   "execution_count": 110,
   "id": "b16ad184-e8ae-4391-a3b4-695230067160",
   "metadata": {},
   "outputs": [],
   "source": [
    "#Modelo 1\n",
    "inputs = tf.keras.Input(shape=(224, 224, 3))\n",
    "x = preprocess_input_mob(inputs)\n",
    "x = modelo_pre_mob(x, training=False)\n",
    "x = global_average_layer(x)\n",
    "#x = tf.keras.layers.Dropout(0.2)(x)\n",
    "outputs = prediction_layer(x)\n",
    "modelo_mob_1 = tf.keras.Model(inputs, outputs)"
   ]
  },
  {
   "cell_type": "code",
   "execution_count": 112,
   "id": "c4c0fc92-19cb-43fd-97fd-2ecee7bfa996",
   "metadata": {},
   "outputs": [
    {
     "name": "stdout",
     "output_type": "stream",
     "text": [
      "Model: \"model_5\"\n",
      "_________________________________________________________________\n",
      "Layer (type)                 Output Shape              Param #   \n",
      "=================================================================\n",
      "input_20 (InputLayer)        [(None, 224, 224, 3)]     0         \n",
      "_________________________________________________________________\n",
      "tf.math.truediv (TFOpLambda) (None, 224, 224, 3)       0         \n",
      "_________________________________________________________________\n",
      "tf.math.subtract (TFOpLambda (None, 224, 224, 3)       0         \n",
      "_________________________________________________________________\n",
      "mobilenetv2_1.00_224 (Functi (None, 7, 7, 1280)        2257984   \n",
      "_________________________________________________________________\n",
      "global_average_pooling2d_7 ( (None, 1280)              0         \n",
      "_________________________________________________________________\n",
      "dense_7 (Dense)              (None, 4)                 5124      \n",
      "=================================================================\n",
      "Total params: 2,263,108\n",
      "Trainable params: 5,124\n",
      "Non-trainable params: 2,257,984\n",
      "_________________________________________________________________\n"
     ]
    }
   ],
   "source": [
    "modelo_mob_1.summary()"
   ]
  },
  {
   "cell_type": "code",
   "execution_count": 113,
   "id": "f67f2500-a20c-41e4-a8f5-619ac1b93e47",
   "metadata": {},
   "outputs": [],
   "source": [
    "# Compilação do modelo\n",
    "modelo_mob_1.compile(optimizer = Adam(learning_rate = lr, \n",
    "                                beta_1 = beta1, \n",
    "                                beta_2 = beta2, \n",
    "                                epsilon = ep),\n",
    "                                loss = 'categorical_crossentropy',\n",
    "                                metrics = ['accuracy', Precision(name = 'precision'), Recall(name = 'recall')])"
   ]
  },
  {
   "cell_type": "code",
   "execution_count": 114,
   "id": "a60ac922-6e6d-4a04-bfe4-1922ce974620",
   "metadata": {},
   "outputs": [],
   "source": [
    "# Checkpoint\n",
    "checkpoint_mob_1 = tf.keras.callbacks.ModelCheckpoint(\"modelo/modelo_mob_1.h5\", \n",
    "                                                verbose = 1, \n",
    "                                                save_best = True, \n",
    "                                                save_weights_only = True)"
   ]
  },
  {
   "cell_type": "markdown",
   "id": "f21b427d-405f-4658-a2c5-a7a4cf8b9bee",
   "metadata": {},
   "source": [
    "#### **Modelo 2**"
   ]
  },
  {
   "cell_type": "code",
   "execution_count": 33,
   "id": "7f8461bf-a39f-44c1-8c97-52635a4ea0f1",
   "metadata": {},
   "outputs": [],
   "source": [
    "# Carregando um modelo pré-treinado\n",
    "modelo_pre_mob = MobileNetV2(input_shape = (224,224,3), include_top = False)\n",
    "modelo_pre_mob.trainable = False\n",
    "preprocess_input_mob = tf.keras.applications.mobilenet_v2.preprocess_input\n",
    "global_average_layer = tf.keras.layers.GlobalAveragePooling2D()\n",
    "prediction_layer = tf.keras.layers.Dense(4, activation = 'softmax')"
   ]
  },
  {
   "cell_type": "code",
   "execution_count": 154,
   "id": "c2ac12cd-dfbe-408f-b0e4-38fc4e8cb70b",
   "metadata": {},
   "outputs": [],
   "source": [
    "#Modelo 2\n",
    "inputs = tf.keras.Input(shape=(224, 224, 3))\n",
    "x = preprocess_input_mob(inputs)\n",
    "x = modelo_pre_mob(x, training=False)\n",
    "x = global_average_layer(x)\n",
    "x = tf.keras.layers.Dropout(0.2)(x)\n",
    "outputs = prediction_layer(x)\n",
    "modelo_mob_2 = tf.keras.Model(inputs, outputs)"
   ]
  },
  {
   "cell_type": "code",
   "execution_count": 155,
   "id": "481c29f2-6e94-4f27-98b8-64e732d2f0bd",
   "metadata": {},
   "outputs": [
    {
     "name": "stdout",
     "output_type": "stream",
     "text": [
      "Model: \"model_9\"\n",
      "_________________________________________________________________\n",
      "Layer (type)                 Output Shape              Param #   \n",
      "=================================================================\n",
      "input_28 (InputLayer)        [(None, 224, 224, 3)]     0         \n",
      "_________________________________________________________________\n",
      "tf.math.truediv_1 (TFOpLambd (None, 224, 224, 3)       0         \n",
      "_________________________________________________________________\n",
      "tf.math.subtract_1 (TFOpLamb (None, 224, 224, 3)       0         \n",
      "_________________________________________________________________\n",
      "mobilenetv2_1.00_224 (Functi (None, 7, 7, 1280)        2257984   \n",
      "_________________________________________________________________\n",
      "global_average_pooling2d_11  (None, 1280)              0         \n",
      "_________________________________________________________________\n",
      "dropout_3 (Dropout)          (None, 1280)              0         \n",
      "_________________________________________________________________\n",
      "dense_11 (Dense)             (None, 4)                 5124      \n",
      "=================================================================\n",
      "Total params: 2,263,108\n",
      "Trainable params: 5,124\n",
      "Non-trainable params: 2,257,984\n",
      "_________________________________________________________________\n"
     ]
    }
   ],
   "source": [
    "modelo_mob_2.summary()"
   ]
  },
  {
   "cell_type": "code",
   "execution_count": 156,
   "id": "2b353bc1-739a-4385-8803-f8d4044f9866",
   "metadata": {},
   "outputs": [],
   "source": [
    "# Compilação do modelo\n",
    "modelo_mob_2.compile(optimizer = Adam(learning_rate = lr, \n",
    "                                beta_1 = beta1, \n",
    "                                beta_2 = beta2, \n",
    "                                epsilon = ep),\n",
    "                                loss = 'categorical_crossentropy',\n",
    "                                metrics = ['accuracy', Precision(name = 'precision'), Recall(name = 'recall')])"
   ]
  },
  {
   "cell_type": "code",
   "execution_count": 157,
   "id": "82478d6e-87b8-4f78-a0e3-f00ea1d4311c",
   "metadata": {},
   "outputs": [],
   "source": [
    "# Checkpoint\n",
    "checkpoint_mob_2 = tf.keras.callbacks.ModelCheckpoint(\"modelo/modelo_mob_2.h5\", \n",
    "                                                verbose = 1, \n",
    "                                                save_best = True, \n",
    "                                                save_weights_only = True)"
   ]
  },
  {
   "cell_type": "markdown",
   "id": "c36aad29-a4d9-4e71-a4a1-1cf304d6ac85",
   "metadata": {},
   "source": [
    "#### **Modelo 3**"
   ]
  },
  {
   "cell_type": "code",
   "execution_count": 34,
   "id": "f050e679-3f64-4389-b5ce-3346d889b573",
   "metadata": {},
   "outputs": [],
   "source": [
    "# Carregando um modelo pré-treinado\n",
    "modelo_pre_mob = MobileNetV2(input_shape = (224,224,3), include_top = False)\n",
    "modelo_pre_mob.trainable = False\n",
    "preprocess_input_mob = tf.keras.applications.mobilenet_v2.preprocess_input\n",
    "global_average_layer = tf.keras.layers.GlobalAveragePooling2D()\n",
    "prediction_layer = tf.keras.layers.Dense(4, activation = 'softmax')"
   ]
  },
  {
   "cell_type": "code",
   "execution_count": 165,
   "id": "7e0f0a3f-27ed-40dd-a879-a5dfd9aad4d7",
   "metadata": {},
   "outputs": [],
   "source": [
    "#Modelo 3\n",
    "inputs = tf.keras.Input(shape=(224, 224, 3))\n",
    "x = preprocess_input_mob(inputs)\n",
    "x = modelo_pre_mob(x, training=False)\n",
    "x = global_average_layer(x)\n",
    "x = tf.keras.layers.Dropout(0.8)(x)\n",
    "outputs = prediction_layer(x)\n",
    "modelo_mob_3 = tf.keras.Model(inputs, outputs)"
   ]
  },
  {
   "cell_type": "code",
   "execution_count": 166,
   "id": "7d63e23b-6b1d-41e1-a79e-a49bddd5aa0b",
   "metadata": {},
   "outputs": [
    {
     "name": "stdout",
     "output_type": "stream",
     "text": [
      "Model: \"model_10\"\n",
      "_________________________________________________________________\n",
      "Layer (type)                 Output Shape              Param #   \n",
      "=================================================================\n",
      "input_31 (InputLayer)        [(None, 224, 224, 3)]     0         \n",
      "_________________________________________________________________\n",
      "tf.math.truediv_2 (TFOpLambd (None, 224, 224, 3)       0         \n",
      "_________________________________________________________________\n",
      "tf.math.subtract_2 (TFOpLamb (None, 224, 224, 3)       0         \n",
      "_________________________________________________________________\n",
      "mobilenetv2_1.00_224 (Functi (None, 7, 7, 1280)        2257984   \n",
      "_________________________________________________________________\n",
      "global_average_pooling2d_13  (None, 1280)              0         \n",
      "_________________________________________________________________\n",
      "dropout_4 (Dropout)          (None, 1280)              0         \n",
      "_________________________________________________________________\n",
      "dense_13 (Dense)             (None, 4)                 5124      \n",
      "=================================================================\n",
      "Total params: 2,263,108\n",
      "Trainable params: 5,124\n",
      "Non-trainable params: 2,257,984\n",
      "_________________________________________________________________\n"
     ]
    }
   ],
   "source": [
    "modelo_mob_3.summary()"
   ]
  },
  {
   "cell_type": "code",
   "execution_count": 167,
   "id": "42c40779-30dc-41de-813c-56a8ee86482f",
   "metadata": {},
   "outputs": [],
   "source": [
    "# Compilação do modelo\n",
    "modelo_mob_3.compile(optimizer = Adam(learning_rate = lr, \n",
    "                                beta_1 = beta1, \n",
    "                                beta_2 = beta2, \n",
    "                                epsilon = ep),\n",
    "                                loss = 'categorical_crossentropy',\n",
    "                                metrics = ['accuracy', Precision(name = 'precision'), Recall(name = 'recall')])"
   ]
  },
  {
   "cell_type": "code",
   "execution_count": 168,
   "id": "faa7ee38-2660-4f15-b931-dfc487859b0d",
   "metadata": {},
   "outputs": [],
   "source": [
    "# Checkpoint\n",
    "checkpoint_mob_3 = tf.keras.callbacks.ModelCheckpoint(\"modelo/modelo_mob_3.h5\", \n",
    "                                                verbose = 1, \n",
    "                                                save_best = True, \n",
    "                                                save_weights_only = True)"
   ]
  },
  {
   "cell_type": "markdown",
   "id": "1b6c7cdd-ec3e-4dca-b96f-3feea323c828",
   "metadata": {},
   "source": [
    "## **Treinando os modelos**"
   ]
  },
  {
   "cell_type": "markdown",
   "id": "53710294-fc4a-4708-a111-9dcc8ce01eeb",
   "metadata": {},
   "source": [
    "### **EfficientNetB3**"
   ]
  },
  {
   "cell_type": "markdown",
   "id": "7a830007-777e-4bf3-ba9b-71e50c74f4de",
   "metadata": {},
   "source": [
    "#### **Modelo 1**"
   ]
  },
  {
   "cell_type": "code",
   "execution_count": 72,
   "id": "df0bb0ef-8e87-45e0-b335-55cb90c25056",
   "metadata": {},
   "outputs": [
    {
     "name": "stdout",
     "output_type": "stream",
     "text": [
      "Epoch 1/10\n",
      "128/128 [==============================] - 250s 2s/step - loss: 0.1530 - accuracy: 0.9445 - precision: 0.9533 - recall: 0.9337 - val_loss: 0.2119 - val_accuracy: 0.9189 - val_precision: 0.9259 - val_recall: 0.9087\n",
      "\n",
      "Epoch 00001: saving model to modelo/modelob3_1.h5\n",
      "Epoch 2/10\n",
      "128/128 [==============================] - 243s 2s/step - loss: 0.1514 - accuracy: 0.9445 - precision: 0.9510 - recall: 0.9346 - val_loss: 0.2228 - val_accuracy: 0.9155 - val_precision: 0.9223 - val_recall: 0.9102\n",
      "\n",
      "Epoch 00002: saving model to modelo/modelob3_1.h5\n",
      "Epoch 3/10\n",
      "128/128 [==============================] - 242s 2s/step - loss: 0.1481 - accuracy: 0.9415 - precision: 0.9472 - recall: 0.9342 - val_loss: 0.2251 - val_accuracy: 0.9160 - val_precision: 0.9193 - val_recall: 0.9116\n",
      "\n",
      "Epoch 00003: saving model to modelo/modelob3_1.h5\n",
      "Epoch 4/10\n",
      "128/128 [==============================] - 236s 2s/step - loss: 0.1414 - accuracy: 0.9473 - precision: 0.9543 - recall: 0.9380 - val_loss: 0.2130 - val_accuracy: 0.9219 - val_precision: 0.9265 - val_recall: 0.9170\n",
      "\n",
      "Epoch 00004: saving model to modelo/modelob3_1.h5\n",
      "Epoch 5/10\n",
      "128/128 [==============================] - 235s 2s/step - loss: 0.1365 - accuracy: 0.9515 - precision: 0.9574 - recall: 0.9451 - val_loss: 0.2226 - val_accuracy: 0.9199 - val_precision: 0.9235 - val_recall: 0.9131\n",
      "\n",
      "Epoch 00005: saving model to modelo/modelob3_1.h5\n",
      "Epoch 6/10\n",
      "128/128 [==============================] - 237s 2s/step - loss: 0.1242 - accuracy: 0.9577 - precision: 0.9646 - recall: 0.9494 - val_loss: 0.2611 - val_accuracy: 0.9038 - val_precision: 0.9113 - val_recall: 0.8984\n",
      "\n",
      "Epoch 00006: saving model to modelo/modelob3_1.h5\n",
      "Epoch 7/10\n",
      "128/128 [==============================] - 236s 2s/step - loss: 0.1322 - accuracy: 0.9514 - precision: 0.9572 - recall: 0.9459 - val_loss: 0.2278 - val_accuracy: 0.9194 - val_precision: 0.9208 - val_recall: 0.9146\n",
      "\n",
      "Epoch 00007: saving model to modelo/modelob3_1.h5\n",
      "Epoch 8/10\n",
      "128/128 [==============================] - 235s 2s/step - loss: 0.1262 - accuracy: 0.9548 - precision: 0.9621 - recall: 0.9474 - val_loss: 0.2067 - val_accuracy: 0.9248 - val_precision: 0.9319 - val_recall: 0.9219\n",
      "\n",
      "Epoch 00008: saving model to modelo/modelob3_1.h5\n",
      "Epoch 9/10\n",
      "128/128 [==============================] - 264s 2s/step - loss: 0.1173 - accuracy: 0.9582 - precision: 0.9652 - recall: 0.9528 - val_loss: 0.2003 - val_accuracy: 0.9307 - val_precision: 0.9360 - val_recall: 0.9277\n",
      "\n",
      "Epoch 00009: saving model to modelo/modelob3_1.h5\n",
      "Epoch 10/10\n",
      "128/128 [==============================] - 283s 2s/step - loss: 0.1074 - accuracy: 0.9622 - precision: 0.9683 - recall: 0.9597 - val_loss: 0.2394 - val_accuracy: 0.9180 - val_precision: 0.9210 - val_recall: 0.9106\n",
      "\n",
      "Epoch 00010: saving model to modelo/modelob3_1.h5\n",
      "CPU times: user 2h 5min 13s, sys: 15min 53s, total: 2h 21min 7s\n",
      "Wall time: 41min 5s\n"
     ]
    }
   ],
   "source": [
    "%%time\n",
    "history_b3_1 = modelo_b3_1.fit(dataset_treino,\n",
    "                     steps_per_epoch = len(x_train)//batch_size,\n",
    "                     epochs = 10,\n",
    "                     validation_data = dataset_validation,\n",
    "                     validation_steps = len(y_train)//batch_size,\n",
    "                     callbacks = [checkpoint_b3_1])"
   ]
  },
  {
   "cell_type": "code",
   "execution_count": 74,
   "id": "a98add4f-faeb-4975-809e-856af6396fea",
   "metadata": {},
   "outputs": [
    {
     "data": {
      "text/plain": [
       "Text(0.5, 1.0, 'Training and Validation Accuracy')"
      ]
     },
     "execution_count": 74,
     "metadata": {},
     "output_type": "execute_result"
    },
    {
     "data": {
      "image/png": "[encoded data removed]",
      "text/plain": [
       "<Figure size 576x576 with 1 Axes>"
      ]
     },
     "metadata": {
      "needs_background": "light"
     },
     "output_type": "display_data"
    }
   ],
   "source": [
    "acc = history_b3_1.history['accuracy']\n",
    "val_acc = history_b3_1.history['val_accuracy']\n",
    "\n",
    "epochs_range = range(10)\n",
    "\n",
    "plt.figure(figsize=(8, 8))\n",
    "plt.plot(epochs_range, acc, label='Training Accuracy')\n",
    "plt.plot(epochs_range, val_acc, label='Validation Accuracy')\n",
    "plt.legend(loc='lower right')\n",
    "plt.title('Training and Validation Accuracy')"
   ]
  },
  {
   "cell_type": "markdown",
   "id": "fd7946b5-0c7e-4479-bd03-3a2acd5ea579",
   "metadata": {},
   "source": [
    "#### **Modelo 2**"
   ]
  },
  {
   "cell_type": "code",
   "execution_count": 126,
   "id": "d5d91422-3965-4a8a-b820-05c668099034",
   "metadata": {},
   "outputs": [
    {
     "name": "stdout",
     "output_type": "stream",
     "text": [
      "Epoch 1/10\n",
      "128/128 [==============================] - 293s 2s/step - loss: 0.5620 - accuracy: 0.8000 - precision: 0.9030 - recall: 0.6865 - val_loss: 0.3524 - val_accuracy: 0.8853 - val_precision: 0.9199 - val_recall: 0.8462\n",
      "\n",
      "Epoch 00001: saving model to modelo/modelob3_2.h5\n",
      "Epoch 2/10\n",
      "128/128 [==============================] - 288s 2s/step - loss: 0.3313 - accuracy: 0.8757 - precision: 0.9078 - recall: 0.8467 - val_loss: 0.2924 - val_accuracy: 0.9102 - val_precision: 0.9354 - val_recall: 0.8838\n",
      "\n",
      "Epoch 00002: saving model to modelo/modelob3_2.h5\n",
      "Epoch 3/10\n",
      "128/128 [==============================] - 265s 2s/step - loss: 0.2711 - accuracy: 0.8983 - precision: 0.9226 - recall: 0.8732 - val_loss: 0.2534 - val_accuracy: 0.9146 - val_precision: 0.9315 - val_recall: 0.8965\n",
      "\n",
      "Epoch 00003: saving model to modelo/modelob3_2.h5\n",
      "Epoch 4/10\n",
      "128/128 [==============================] - 293s 2s/step - loss: 0.2388 - accuracy: 0.9125 - precision: 0.9314 - recall: 0.8934 - val_loss: 0.2587 - val_accuracy: 0.9038 - val_precision: 0.9160 - val_recall: 0.8945\n",
      "\n",
      "Epoch 00004: saving model to modelo/modelob3_2.h5\n",
      "Epoch 5/10\n",
      "128/128 [==============================] - 286s 2s/step - loss: 0.2323 - accuracy: 0.9066 - precision: 0.9235 - recall: 0.8904 - val_loss: 0.2436 - val_accuracy: 0.9111 - val_precision: 0.9201 - val_recall: 0.8994\n",
      "\n",
      "Epoch 00005: saving model to modelo/modelob3_2.h5\n",
      "Epoch 6/10\n",
      "128/128 [==============================] - 281s 2s/step - loss: 0.2106 - accuracy: 0.9214 - precision: 0.9360 - recall: 0.9052 - val_loss: 0.2159 - val_accuracy: 0.9243 - val_precision: 0.9382 - val_recall: 0.9116\n",
      "\n",
      "Epoch 00006: saving model to modelo/modelob3_2.h5\n",
      "Epoch 7/10\n",
      "128/128 [==============================] - 282s 2s/step - loss: 0.2019 - accuracy: 0.9258 - precision: 0.9414 - recall: 0.9160 - val_loss: 0.2381 - val_accuracy: 0.9067 - val_precision: 0.9167 - val_recall: 0.8979\n",
      "\n",
      "Epoch 00007: saving model to modelo/modelob3_2.h5\n",
      "Epoch 8/10\n",
      "128/128 [==============================] - 305s 2s/step - loss: 0.1977 - accuracy: 0.9248 - precision: 0.9391 - recall: 0.9165 - val_loss: 0.2364 - val_accuracy: 0.9082 - val_precision: 0.9177 - val_recall: 0.8926\n",
      "\n",
      "Epoch 00008: saving model to modelo/modelob3_2.h5\n",
      "Epoch 9/10\n",
      "128/128 [==============================] - 321s 3s/step - loss: 0.1861 - accuracy: 0.9283 - precision: 0.9412 - recall: 0.9199 - val_loss: 0.2075 - val_accuracy: 0.9248 - val_precision: 0.9295 - val_recall: 0.9136\n",
      "\n",
      "Epoch 00009: saving model to modelo/modelob3_2.h5\n",
      "Epoch 10/10\n",
      "128/128 [==============================] - 323s 3s/step - loss: 0.1797 - accuracy: 0.9302 - precision: 0.9382 - recall: 0.9179 - val_loss: 0.2444 - val_accuracy: 0.9058 - val_precision: 0.9172 - val_recall: 0.8975\n",
      "\n",
      "Epoch 00010: saving model to modelo/modelob3_2.h5\n",
      "CPU times: user 1h 59min 55s, sys: 17min 37s, total: 2h 17min 33s\n",
      "Wall time: 49min 1s\n"
     ]
    }
   ],
   "source": [
    "%%time\n",
    "history_b3_2 = modelo_b3_2.fit(dataset_treino,\n",
    "                     steps_per_epoch = len(x_train)//batch_size,\n",
    "                     epochs = 10,\n",
    "                     validation_data = dataset_validation,\n",
    "                     validation_steps = len(y_train)//batch_size,\n",
    "                     callbacks = [checkpoint_b3_2])"
   ]
  },
  {
   "cell_type": "code",
   "execution_count": 127,
   "id": "02fb1883-9660-4126-8e30-d6771f42bcc4",
   "metadata": {},
   "outputs": [
    {
     "data": {
      "text/plain": [
       "Text(0.5, 1.0, 'Training and Validation Accuracy')"
      ]
     },
     "execution_count": 127,
     "metadata": {},
     "output_type": "execute_result"
    },
    {
     "data": {
      "image/png": "[encoded data removed]",
      "text/plain": [
       "<Figure size 576x576 with 1 Axes>"
      ]
     },
     "metadata": {
      "needs_background": "light"
     },
     "output_type": "display_data"
    }
   ],
   "source": [
    "acc = history_b3_2.history['accuracy']\n",
    "val_acc = history_b3_2.history['val_accuracy']\n",
    "\n",
    "epochs_range = range(10)\n",
    "\n",
    "plt.figure(figsize=(8, 8))\n",
    "plt.plot(epochs_range, acc, label='Training Accuracy')\n",
    "plt.plot(epochs_range, val_acc, label='Validation Accuracy')\n",
    "plt.legend(loc='lower right')\n",
    "plt.title('Training and Validation Accuracy')"
   ]
  },
  {
   "cell_type": "markdown",
   "id": "0fa996a7-9454-4797-ad6f-e91cd7722479",
   "metadata": {},
   "source": [
    "#### **Modelo 3**"
   ]
  },
  {
   "cell_type": "code",
   "execution_count": 138,
   "id": "5e64929f-c903-49d2-b8eb-f8cee919924f",
   "metadata": {},
   "outputs": [
    {
     "name": "stdout",
     "output_type": "stream",
     "text": [
      "Epoch 1/10\n",
      "128/128 [==============================] - 335s 3s/step - loss: 0.8558 - accuracy: 0.6555 - precision: 0.7390 - recall: 0.5607 - val_loss: 0.4571 - val_accuracy: 0.8184 - val_precision: 0.8564 - val_recall: 0.7803\n",
      "\n",
      "Epoch 00001: saving model to modelo/modelob3_3.h5\n",
      "Epoch 2/10\n",
      "128/128 [==============================] - 293s 2s/step - loss: 0.5084 - accuracy: 0.8010 - precision: 0.8457 - recall: 0.7622 - val_loss: 0.3836 - val_accuracy: 0.8418 - val_precision: 0.8626 - val_recall: 0.8154\n",
      "\n",
      "Epoch 00002: saving model to modelo/modelob3_3.h5\n",
      "Epoch 3/10\n",
      "128/128 [==============================] - 333s 3s/step - loss: 0.4550 - accuracy: 0.8172 - precision: 0.8506 - recall: 0.7887 - val_loss: 0.3296 - val_accuracy: 0.8682 - val_precision: 0.8836 - val_recall: 0.8374\n",
      "\n",
      "Epoch 00003: saving model to modelo/modelob3_3.h5\n",
      "Epoch 4/10\n",
      "128/128 [==============================] - 295s 2s/step - loss: 0.3857 - accuracy: 0.8496 - precision: 0.8743 - recall: 0.8201 - val_loss: 0.3127 - val_accuracy: 0.8657 - val_precision: 0.8850 - val_recall: 0.8491\n",
      "\n",
      "Epoch 00004: saving model to modelo/modelob3_3.h5\n",
      "Epoch 5/10\n",
      "128/128 [==============================] - 270s 2s/step - loss: 0.3921 - accuracy: 0.8501 - precision: 0.8725 - recall: 0.8241 - val_loss: 0.2934 - val_accuracy: 0.8867 - val_precision: 0.9067 - val_recall: 0.8682\n",
      "\n",
      "Epoch 00005: saving model to modelo/modelob3_3.h5\n",
      "Epoch 6/10\n",
      "128/128 [==============================] - 268s 2s/step - loss: 0.3698 - accuracy: 0.8541 - precision: 0.8840 - recall: 0.8275 - val_loss: 0.2997 - val_accuracy: 0.8838 - val_precision: 0.8969 - val_recall: 0.8623\n",
      "\n",
      "Epoch 00006: saving model to modelo/modelob3_3.h5\n",
      "Epoch 7/10\n",
      "128/128 [==============================] - 269s 2s/step - loss: 0.3506 - accuracy: 0.8570 - precision: 0.8840 - recall: 0.8423 - val_loss: 0.2742 - val_accuracy: 0.8979 - val_precision: 0.9109 - val_recall: 0.8784\n",
      "\n",
      "Epoch 00007: saving model to modelo/modelob3_3.h5\n",
      "Epoch 8/10\n",
      "128/128 [==============================] - 266s 2s/step - loss: 0.3364 - accuracy: 0.8644 - precision: 0.8858 - recall: 0.8462 - val_loss: 0.2710 - val_accuracy: 0.8979 - val_precision: 0.9105 - val_recall: 0.8843\n",
      "\n",
      "Epoch 00008: saving model to modelo/modelob3_3.h5\n",
      "Epoch 9/10\n",
      "128/128 [==============================] - 264s 2s/step - loss: 0.3346 - accuracy: 0.8717 - precision: 0.8927 - recall: 0.8585 - val_loss: 0.2697 - val_accuracy: 0.8975 - val_precision: 0.9172 - val_recall: 0.8867\n",
      "\n",
      "Epoch 00009: saving model to modelo/modelob3_3.h5\n",
      "Epoch 10/10\n",
      "128/128 [==============================] - 266s 2s/step - loss: 0.3575 - accuracy: 0.8629 - precision: 0.8836 - recall: 0.8428 - val_loss: 0.2675 - val_accuracy: 0.8970 - val_precision: 0.9087 - val_recall: 0.8794\n",
      "\n",
      "Epoch 00010: saving model to modelo/modelob3_3.h5\n",
      "CPU times: user 2h 39s, sys: 17min 31s, total: 2h 18min 10s\n",
      "Wall time: 47min 42s\n"
     ]
    }
   ],
   "source": [
    "%%time\n",
    "history_b3_3 = modelo_b3_3.fit(dataset_treino,\n",
    "                     steps_per_epoch = len(x_train)//batch_size,\n",
    "                     epochs = 10,\n",
    "                     validation_data = dataset_validation,\n",
    "                     validation_steps = len(y_train)//batch_size,\n",
    "                     callbacks = [checkpoint_b3_3])"
   ]
  },
  {
   "cell_type": "code",
   "execution_count": 195,
   "id": "00a8b8a4-7309-4259-ae39-70a6c6a374b1",
   "metadata": {},
   "outputs": [
    {
     "data": {
      "text/plain": [
       "Text(0.5, 1.0, 'Training and Validation Accuracy')"
      ]
     },
     "execution_count": 195,
     "metadata": {},
     "output_type": "execute_result"
    },
    {
     "data": {
      "image/png": "[encoded data removed]",
      "text/plain": [
       "<Figure size 576x576 with 1 Axes>"
      ]
     },
     "metadata": {
      "needs_background": "light"
     },
     "output_type": "display_data"
    }
   ],
   "source": [
    "acc = history_b3_3.history['accuracy']\n",
    "val_acc = history_b3_3.history['val_accuracy']\n",
    "\n",
    "epochs_range = range(10)\n",
    "\n",
    "plt.figure(figsize=(8, 8))\n",
    "plt.plot(epochs_range, acc, label='Training Accuracy')\n",
    "plt.plot(epochs_range, val_acc, label='Validation Accuracy')\n",
    "plt.legend(loc='lower right')\n",
    "plt.title('Training and Validation Accuracy')"
   ]
  },
  {
   "cell_type": "code",
   "execution_count": 194,
   "id": "760381d0-a3bb-43f2-9748-8546feda704a",
   "metadata": {},
   "outputs": [
    {
     "data": {
      "image/png": "[encoded data removed]",
      "text/plain": [
       "<Figure size 576x576 with 2 Axes>"
      ]
     },
     "metadata": {
      "needs_background": "light"
     },
     "output_type": "display_data"
    }
   ],
   "source": [
    "#Gráfico das acurácias dos 3 modelos\n",
    "acc1 = history_b3_1.history['accuracy']\n",
    "acc2 = history_b3_2.history['accuracy']\n",
    "acc3 = history_b3_3.history['accuracy']\n",
    "val_acc1 = history_b3_1.history['val_accuracy']\n",
    "val_acc2 = history_b3_2.history['val_accuracy']\n",
    "val_acc3 = history_b3_3.history['val_accuracy']\n",
    "\n",
    "epochs_range = range(10)\n",
    "\n",
    "plt.figure(figsize=(8, 8))\n",
    "plt.subplot(1, 2, 1)\n",
    "plt.plot(epochs_range, acc1, label='Modelo 1')\n",
    "plt.plot(epochs_range, acc2, label='Modelo 2')\n",
    "plt.plot(epochs_range, acc3, label='Modelo 3')\n",
    "plt.legend(loc='lower right')\n",
    "plt.title('Training Accuracy')\n",
    "\n",
    "plt.subplot(1, 2, 2)\n",
    "plt.plot(epochs_range, val_acc1, label='Modelo 1')\n",
    "plt.plot(epochs_range, val_acc2, label='Modelo 2')\n",
    "plt.plot(epochs_range, val_acc3, label='Modelo 3')\n",
    "plt.legend(loc='lower right')\n",
    "plt.title('Validation Accuracy')\n",
    "plt.show()"
   ]
  },
  {
   "cell_type": "markdown",
   "id": "94eea917-64aa-4183-b5ed-fcd0f724bd74",
   "metadata": {},
   "source": [
    "### **ResNet50**"
   ]
  },
  {
   "cell_type": "markdown",
   "id": "b9bb32dc-10b0-4f9e-997e-07ab45e11c6e",
   "metadata": {},
   "source": [
    "#### **Modelo 1**"
   ]
  },
  {
   "cell_type": "code",
   "execution_count": 97,
   "id": "cb916f6f-d7bf-48d4-9a8f-14eaef713430",
   "metadata": {},
   "outputs": [
    {
     "name": "stdout",
     "output_type": "stream",
     "text": [
      "Epoch 1/10\n",
      "128/128 [==============================] - 419s 3s/step - loss: 0.3943 - accuracy: 0.8477 - precision: 0.8872 - recall: 0.8157 - val_loss: 0.2790 - val_accuracy: 0.8950 - val_precision: 0.9001 - val_recall: 0.8936\n",
      "\n",
      "Epoch 00001: saving model to modelo/modelo_res_1.h5\n",
      "Epoch 2/10\n",
      "128/128 [==============================] - 347s 3s/step - loss: 0.2197 - accuracy: 0.9179 - precision: 0.9270 - recall: 0.9052 - val_loss: 0.2604 - val_accuracy: 0.9048 - val_precision: 0.9057 - val_recall: 0.9009\n",
      "\n",
      "Epoch 00002: saving model to modelo/modelo_res_1.h5\n",
      "Epoch 3/10\n",
      "128/128 [==============================] - 379s 3s/step - loss: 0.1816 - accuracy: 0.9263 - precision: 0.9356 - recall: 0.9204 - val_loss: 0.1988 - val_accuracy: 0.9321 - val_precision: 0.9374 - val_recall: 0.9214\n",
      "\n",
      "Epoch 00003: saving model to modelo/modelo_res_1.h5\n",
      "Epoch 4/10\n",
      "128/128 [==============================] - 388s 3s/step - loss: 0.1624 - accuracy: 0.9361 - precision: 0.9446 - recall: 0.9297 - val_loss: 0.2372 - val_accuracy: 0.9175 - val_precision: 0.9207 - val_recall: 0.9131\n",
      "\n",
      "Epoch 00004: saving model to modelo/modelo_res_1.h5\n",
      "Epoch 5/10\n",
      "128/128 [==============================] - 399s 3s/step - loss: 0.1483 - accuracy: 0.9415 - precision: 0.9473 - recall: 0.9356 - val_loss: 0.1974 - val_accuracy: 0.9277 - val_precision: 0.9343 - val_recall: 0.9229\n",
      "\n",
      "Epoch 00005: saving model to modelo/modelo_res_1.h5\n",
      "Epoch 6/10\n",
      "128/128 [==============================] - 365s 3s/step - loss: 0.1235 - accuracy: 0.9514 - precision: 0.9549 - recall: 0.9459 - val_loss: 0.3160 - val_accuracy: 0.9033 - val_precision: 0.9050 - val_recall: 0.9023\n",
      "\n",
      "Epoch 00006: saving model to modelo/modelo_res_1.h5\n",
      "Epoch 7/10\n",
      "128/128 [==============================] - 373s 3s/step - loss: 0.1211 - accuracy: 0.9514 - precision: 0.9554 - recall: 0.9464 - val_loss: 0.2392 - val_accuracy: 0.9204 - val_precision: 0.9212 - val_recall: 0.9185\n",
      "\n",
      "Epoch 00007: saving model to modelo/modelo_res_1.h5\n",
      "Epoch 8/10\n",
      "128/128 [==============================] - 411s 3s/step - loss: 0.1132 - accuracy: 0.9548 - precision: 0.9589 - recall: 0.9509 - val_loss: 0.2407 - val_accuracy: 0.9297 - val_precision: 0.9328 - val_recall: 0.9287\n",
      "\n",
      "Epoch 00008: saving model to modelo/modelo_res_1.h5\n",
      "Epoch 9/10\n",
      "128/128 [==============================] - 388s 3s/step - loss: 0.1054 - accuracy: 0.9622 - precision: 0.9649 - recall: 0.9582 - val_loss: 0.3889 - val_accuracy: 0.8975 - val_precision: 0.9001 - val_recall: 0.8975\n",
      "\n",
      "Epoch 00009: saving model to modelo/modelo_res_1.h5\n",
      "Epoch 10/10\n",
      "128/128 [==============================] - 380s 3s/step - loss: 0.1027 - accuracy: 0.9622 - precision: 0.9664 - recall: 0.9597 - val_loss: 0.2484 - val_accuracy: 0.9248 - val_precision: 0.9271 - val_recall: 0.9248\n",
      "\n",
      "Epoch 00010: saving model to modelo/modelo_res_1.h5\n",
      "CPU times: user 3h 7min 25s, sys: 11min 42s, total: 3h 19min 8s\n",
      "Wall time: 1h 4min 17s\n"
     ]
    }
   ],
   "source": [
    "%%time\n",
    "history_res_1 = modelo_res_1.fit(dataset_treino,\n",
    "                     steps_per_epoch = len(x_train)//batch_size,\n",
    "                     epochs = 10,\n",
    "                     validation_data = dataset_validation,\n",
    "                     validation_steps = len(y_train)//batch_size,\n",
    "                     callbacks = [checkpoint_res_1])"
   ]
  },
  {
   "cell_type": "code",
   "execution_count": 98,
   "id": "d1e91901-0940-4bca-87ba-039df69eeac7",
   "metadata": {},
   "outputs": [
    {
     "data": {
      "text/plain": [
       "Text(0.5, 1.0, 'Training and Validation Accuracy')"
      ]
     },
     "execution_count": 98,
     "metadata": {},
     "output_type": "execute_result"
    },
    {
     "data": {
      "image/png": "[encoded data removed]",
      "text/plain": [
       "<Figure size 576x576 with 1 Axes>"
      ]
     },
     "metadata": {
      "needs_background": "light"
     },
     "output_type": "display_data"
    }
   ],
   "source": [
    "acc = history_res_1.history['accuracy']\n",
    "val_acc = history_res_1.history['val_accuracy']\n",
    "\n",
    "epochs_range = range(10)\n",
    "\n",
    "plt.figure(figsize=(8, 8))\n",
    "plt.plot(epochs_range, acc, label='Training Accuracy')\n",
    "plt.plot(epochs_range, val_acc, label='Validation Accuracy')\n",
    "plt.legend(loc='lower right')\n",
    "plt.title('Training and Validation Accuracy')"
   ]
  },
  {
   "cell_type": "markdown",
   "id": "eba04d9d-210f-438d-bf62-761a9c80ad59",
   "metadata": {},
   "source": [
    "#### **Modelo 2**"
   ]
  },
  {
   "cell_type": "code",
   "execution_count": 148,
   "id": "64291a27-1c0e-44ec-b228-70eb08feccc2",
   "metadata": {},
   "outputs": [
    {
     "name": "stdout",
     "output_type": "stream",
     "text": [
      "Epoch 1/10\n",
      "128/128 [==============================] - 374s 3s/step - loss: 0.4203 - accuracy: 0.8354 - precision: 0.8644 - recall: 0.8084 - val_loss: 0.3517 - val_accuracy: 0.8750 - val_precision: 0.8780 - val_recall: 0.8716\n",
      "\n",
      "Epoch 00001: saving model to modelo/modelo_res_2.h5\n",
      "Epoch 2/10\n",
      "128/128 [==============================] - 366s 3s/step - loss: 0.2363 - accuracy: 0.9091 - precision: 0.9164 - recall: 0.8993 - val_loss: 0.2139 - val_accuracy: 0.9253 - val_precision: 0.9289 - val_recall: 0.9185\n",
      "\n",
      "Epoch 00002: saving model to modelo/modelo_res_2.h5\n",
      "Epoch 3/10\n",
      "128/128 [==============================] - 363s 3s/step - loss: 0.2132 - accuracy: 0.9179 - precision: 0.9237 - recall: 0.9106 - val_loss: 0.2201 - val_accuracy: 0.9307 - val_precision: 0.9325 - val_recall: 0.9307\n",
      "\n",
      "Epoch 00003: saving model to modelo/modelo_res_2.h5\n",
      "Epoch 4/10\n",
      "128/128 [==============================] - 389s 3s/step - loss: 0.1821 - accuracy: 0.9243 - precision: 0.9289 - recall: 0.9174 - val_loss: 0.3057 - val_accuracy: 0.8984 - val_precision: 0.9019 - val_recall: 0.8975\n",
      "\n",
      "Epoch 00004: saving model to modelo/modelo_res_2.h5\n",
      "Epoch 5/10\n",
      "128/128 [==============================] - 387s 3s/step - loss: 0.1644 - accuracy: 0.9361 - precision: 0.9406 - recall: 0.9332 - val_loss: 0.2687 - val_accuracy: 0.9126 - val_precision: 0.9146 - val_recall: 0.9102\n",
      "\n",
      "Epoch 00005: saving model to modelo/modelo_res_2.h5\n",
      "Epoch 6/10\n",
      "128/128 [==============================] - 357s 3s/step - loss: 0.1692 - accuracy: 0.9356 - precision: 0.9377 - recall: 0.9312 - val_loss: 0.3255 - val_accuracy: 0.8975 - val_precision: 0.9009 - val_recall: 0.8965\n",
      "\n",
      "Epoch 00006: saving model to modelo/modelo_res_2.h5\n",
      "Epoch 7/10\n",
      "128/128 [==============================] - 324s 3s/step - loss: 0.1550 - accuracy: 0.9415 - precision: 0.9445 - recall: 0.9371 - val_loss: 0.2400 - val_accuracy: 0.9233 - val_precision: 0.9273 - val_recall: 0.9214\n",
      "\n",
      "Epoch 00007: saving model to modelo/modelo_res_2.h5\n",
      "Epoch 8/10\n",
      "128/128 [==============================] - 323s 3s/step - loss: 0.1338 - accuracy: 0.9479 - precision: 0.9521 - recall: 0.9464 - val_loss: 0.2125 - val_accuracy: 0.9331 - val_precision: 0.9361 - val_recall: 0.9307\n",
      "\n",
      "Epoch 00008: saving model to modelo/modelo_res_2.h5\n",
      "Epoch 9/10\n",
      "128/128 [==============================] - 323s 3s/step - loss: 0.1366 - accuracy: 0.9425 - precision: 0.9461 - recall: 0.9400 - val_loss: 0.2327 - val_accuracy: 0.9277 - val_precision: 0.9309 - val_recall: 0.9277\n",
      "\n",
      "Epoch 00009: saving model to modelo/modelo_res_2.h5\n",
      "Epoch 10/10\n",
      "128/128 [==============================] - 330s 3s/step - loss: 0.1302 - accuracy: 0.9514 - precision: 0.9535 - recall: 0.9479 - val_loss: 0.4119 - val_accuracy: 0.8872 - val_precision: 0.8880 - val_recall: 0.8862\n",
      "\n",
      "Epoch 00010: saving model to modelo/modelo_res_2.h5\n",
      "CPU times: user 2h 59min 59s, sys: 11min 43s, total: 3h 11min 43s\n",
      "Wall time: 59min 2s\n"
     ]
    }
   ],
   "source": [
    "%%time\n",
    "history_res_2 = modelo_res_2.fit(dataset_treino,\n",
    "                     steps_per_epoch = len(x_train)//batch_size,\n",
    "                     epochs = 10,\n",
    "                     validation_data = dataset_validation,\n",
    "                     validation_steps = len(y_train)//batch_size,\n",
    "                     callbacks = [checkpoint_res_2])"
   ]
  },
  {
   "cell_type": "code",
   "execution_count": 169,
   "id": "ece8d2aa-a4cc-4cca-8251-45a9a4ba11e0",
   "metadata": {},
   "outputs": [
    {
     "data": {
      "text/plain": [
       "Text(0.5, 1.0, 'Training and Validation Accuracy')"
      ]
     },
     "execution_count": 169,
     "metadata": {},
     "output_type": "execute_result"
    },
    {
     "data": {
      "image/png": "[encoded data removed]",
      "text/plain": [
       "<Figure size 576x576 with 1 Axes>"
      ]
     },
     "metadata": {
      "needs_background": "light"
     },
     "output_type": "display_data"
    }
   ],
   "source": [
    "acc = history_res_2.history['accuracy']\n",
    "val_acc = history_res_2.history['val_accuracy']\n",
    "\n",
    "epochs_range = range(10)\n",
    "\n",
    "plt.figure(figsize=(8, 8))\n",
    "plt.plot(epochs_range, acc, label='Training Accuracy')\n",
    "plt.plot(epochs_range, val_acc, label='Validation Accuracy')\n",
    "plt.legend(loc='lower right')\n",
    "plt.title('Training and Validation Accuracy')"
   ]
  },
  {
   "cell_type": "markdown",
   "id": "c88774f9-2108-4254-af26-e66ee1ad815a",
   "metadata": {},
   "source": [
    "#### **Modelo 3**"
   ]
  },
  {
   "cell_type": "code",
   "execution_count": 183,
   "id": "1e4c49eb-14e1-450e-ad87-e675d0e705a6",
   "metadata": {},
   "outputs": [
    {
     "name": "stdout",
     "output_type": "stream",
     "text": [
      "Epoch 1/10\n",
      "128/128 [==============================] - 361s 3s/step - loss: 1.0873 - accuracy: 0.6796 - precision: 0.6990 - recall: 0.6550 - val_loss: 0.3138 - val_accuracy: 0.8755 - val_precision: 0.8816 - val_recall: 0.8687\n",
      "\n",
      "Epoch 00001: saving model to modelo/modelo_res_3.h5\n",
      "Epoch 2/10\n",
      "128/128 [==============================] - 325s 3s/step - loss: 0.5723 - accuracy: 0.8054 - precision: 0.8208 - recall: 0.7946 - val_loss: 0.3304 - val_accuracy: 0.8784 - val_precision: 0.8804 - val_recall: 0.8730\n",
      "\n",
      "Epoch 00002: saving model to modelo/modelo_res_3.h5\n",
      "Epoch 3/10\n",
      "128/128 [==============================] - 314s 2s/step - loss: 0.4178 - accuracy: 0.8541 - precision: 0.8626 - recall: 0.8388 - val_loss: 0.3988 - val_accuracy: 0.8745 - val_precision: 0.8774 - val_recall: 0.8735\n",
      "\n",
      "Epoch 00003: saving model to modelo/modelo_res_3.h5\n",
      "Epoch 4/10\n",
      "128/128 [==============================] - 312s 2s/step - loss: 0.4069 - accuracy: 0.8693 - precision: 0.8791 - recall: 0.8609 - val_loss: 0.2363 - val_accuracy: 0.9102 - val_precision: 0.9170 - val_recall: 0.9058\n",
      "\n",
      "Epoch 00004: saving model to modelo/modelo_res_3.h5\n",
      "Epoch 5/10\n",
      "128/128 [==============================] - 312s 2s/step - loss: 0.3656 - accuracy: 0.8668 - precision: 0.8796 - recall: 0.8580 - val_loss: 0.2591 - val_accuracy: 0.9106 - val_precision: 0.9149 - val_recall: 0.9082\n",
      "\n",
      "Epoch 00005: saving model to modelo/modelo_res_3.h5\n",
      "Epoch 6/10\n",
      "128/128 [==============================] - 312s 2s/step - loss: 0.3776 - accuracy: 0.8678 - precision: 0.8744 - recall: 0.8619 - val_loss: 0.2688 - val_accuracy: 0.9092 - val_precision: 0.9101 - val_recall: 0.9048\n",
      "\n",
      "Epoch 00006: saving model to modelo/modelo_res_3.h5\n",
      "Epoch 7/10\n",
      "128/128 [==============================] - 312s 2s/step - loss: 0.3487 - accuracy: 0.8816 - precision: 0.8877 - recall: 0.8742 - val_loss: 0.2114 - val_accuracy: 0.9199 - val_precision: 0.9232 - val_recall: 0.9155\n",
      "\n",
      "Epoch 00007: saving model to modelo/modelo_res_3.h5\n",
      "Epoch 8/10\n",
      "128/128 [==============================] - 311s 2s/step - loss: 0.3078 - accuracy: 0.8909 - precision: 0.8991 - recall: 0.8845 - val_loss: 0.2085 - val_accuracy: 0.9204 - val_precision: 0.9244 - val_recall: 0.9194\n",
      "\n",
      "Epoch 00008: saving model to modelo/modelo_res_3.h5\n",
      "Epoch 9/10\n",
      "128/128 [==============================] - 312s 2s/step - loss: 0.3285 - accuracy: 0.8747 - precision: 0.8831 - recall: 0.8722 - val_loss: 0.2581 - val_accuracy: 0.9082 - val_precision: 0.9082 - val_recall: 0.9082\n",
      "\n",
      "Epoch 00009: saving model to modelo/modelo_res_3.h5\n",
      "Epoch 10/10\n",
      "128/128 [==============================] - 312s 2s/step - loss: 0.3387 - accuracy: 0.8821 - precision: 0.8883 - recall: 0.8757 - val_loss: 0.2550 - val_accuracy: 0.9155 - val_precision: 0.9162 - val_recall: 0.9126\n",
      "\n",
      "Epoch 00010: saving model to modelo/modelo_res_3.h5\n",
      "CPU times: user 3h 2min 34s, sys: 11min 29s, total: 3h 14min 3s\n",
      "Wall time: 53min 24s\n"
     ]
    }
   ],
   "source": [
    "%%time\n",
    "history_res_3 = modelo_res_3.fit(dataset_treino,\n",
    "                     steps_per_epoch = len(x_train)//batch_size,\n",
    "                     epochs = 10,\n",
    "                     validation_data = dataset_validation,\n",
    "                     validation_steps = len(y_train)//batch_size,\n",
    "                     callbacks = [checkpoint_res_3])"
   ]
  },
  {
   "cell_type": "code",
   "execution_count": 184,
   "id": "339923cf-2597-4516-89c3-e1b581a83dfd",
   "metadata": {},
   "outputs": [
    {
     "data": {
      "text/plain": [
       "Text(0.5, 1.0, 'Training and Validation Accuracy')"
      ]
     },
     "execution_count": 184,
     "metadata": {},
     "output_type": "execute_result"
    },
    {
     "data": {
      "image/png": "[encoded data removed]",
      "text/plain": [
       "<Figure size 576x576 with 1 Axes>"
      ]
     },
     "metadata": {
      "needs_background": "light"
     },
     "output_type": "display_data"
    }
   ],
   "source": [
    "acc = history_res_3.history['accuracy']\n",
    "val_acc = history_res_3.history['val_accuracy']\n",
    "\n",
    "epochs_range = range(10)\n",
    "\n",
    "plt.figure(figsize=(8, 8))\n",
    "plt.plot(epochs_range, acc, label='Training Accuracy')\n",
    "plt.plot(epochs_range, val_acc, label='Validation Accuracy')\n",
    "plt.legend(loc='lower right')\n",
    "plt.title('Training and Validation Accuracy')"
   ]
  },
  {
   "cell_type": "code",
   "execution_count": 193,
   "id": "d7a0374b-a01d-4d88-bced-3554dda8c009",
   "metadata": {},
   "outputs": [
    {
     "data": {
      "image/png": "[encoded data removed]",
      "text/plain": [
       "<Figure size 576x576 with 2 Axes>"
      ]
     },
     "metadata": {
      "needs_background": "light"
     },
     "output_type": "display_data"
    }
   ],
   "source": [
    "#Gráfico das acurácias dos 3 modelos\n",
    "acc1 = history_res_1.history['accuracy']\n",
    "acc2 = history_res_2.history['accuracy']\n",
    "acc3 = history_res_3.history['accuracy']\n",
    "val_acc1 = history_res_1.history['val_accuracy']\n",
    "val_acc2 = history_res_2.history['val_accuracy']\n",
    "val_acc3 = history_res_3.history['val_accuracy']\n",
    "\n",
    "epochs_range = range(10)\n",
    "\n",
    "plt.figure(figsize=(8, 8))\n",
    "plt.subplot(1, 2, 1)\n",
    "plt.plot(epochs_range, acc1, label='Modelo 1')\n",
    "plt.plot(epochs_range, acc2, label='Modelo 2')\n",
    "plt.plot(epochs_range, acc3, label='Modelo 3')\n",
    "plt.legend(loc='lower right')\n",
    "plt.title('Training Accuracy')\n",
    "\n",
    "plt.subplot(1, 2, 2)\n",
    "plt.plot(epochs_range, val_acc1, label='Modelo 1')\n",
    "plt.plot(epochs_range, val_acc2, label='Modelo 2')\n",
    "plt.plot(epochs_range, val_acc3, label='Modelo 3')\n",
    "plt.legend(loc='lower right')\n",
    "plt.title('Validation Accuracy')\n",
    "plt.show()"
   ]
  },
  {
   "cell_type": "markdown",
   "id": "9e33f988-5c82-4823-bfb9-08b19edac934",
   "metadata": {},
   "source": [
    "### **MobileNetV2**"
   ]
  },
  {
   "cell_type": "markdown",
   "id": "8c6e6822-8d75-4a1b-87a5-fb12328ff793",
   "metadata": {},
   "source": [
    "#### **Modelo 1**"
   ]
  },
  {
   "cell_type": "code",
   "execution_count": 115,
   "id": "da0c22bc-358c-4553-8720-cd15dae280ea",
   "metadata": {},
   "outputs": [
    {
     "name": "stdout",
     "output_type": "stream",
     "text": [
      "Epoch 1/10\n",
      "128/128 [==============================] - 70s 530ms/step - loss: 0.4987 - accuracy: 0.8231 - precision: 0.8672 - recall: 0.7671 - val_loss: 0.2917 - val_accuracy: 0.8872 - val_precision: 0.9021 - val_recall: 0.8594\n",
      "\n",
      "Epoch 00001: saving model to modelo/modelo_mob_1.h5\n",
      "Epoch 2/10\n",
      "128/128 [==============================] - 70s 548ms/step - loss: 0.2837 - accuracy: 0.8892 - precision: 0.9089 - recall: 0.8716 - val_loss: 0.2599 - val_accuracy: 0.8916 - val_precision: 0.9017 - val_recall: 0.8779\n",
      "\n",
      "Epoch 00002: saving model to modelo/modelo_mob_1.h5\n",
      "Epoch 3/10\n",
      "128/128 [==============================] - 68s 536ms/step - loss: 0.2343 - accuracy: 0.9065 - precision: 0.9217 - recall: 0.8966 - val_loss: 0.2343 - val_accuracy: 0.9077 - val_precision: 0.9148 - val_recall: 0.8911\n",
      "\n",
      "Epoch 00003: saving model to modelo/modelo_mob_1.h5\n",
      "Epoch 4/10\n",
      "128/128 [==============================] - 69s 542ms/step - loss: 0.2166 - accuracy: 0.9243 - precision: 0.9320 - recall: 0.9155 - val_loss: 0.2279 - val_accuracy: 0.9102 - val_precision: 0.9204 - val_recall: 0.9038\n",
      "\n",
      "Epoch 00004: saving model to modelo/modelo_mob_1.h5\n",
      "Epoch 5/10\n",
      "128/128 [==============================] - 74s 577ms/step - loss: 0.2107 - accuracy: 0.9184 - precision: 0.9265 - recall: 0.9111 - val_loss: 0.2210 - val_accuracy: 0.9126 - val_precision: 0.9211 - val_recall: 0.9067\n",
      "\n",
      "Epoch 00005: saving model to modelo/modelo_mob_1.h5\n",
      "Epoch 6/10\n",
      "128/128 [==============================] - 73s 571ms/step - loss: 0.1771 - accuracy: 0.9302 - precision: 0.9366 - recall: 0.9219 - val_loss: 0.2208 - val_accuracy: 0.9131 - val_precision: 0.9245 - val_recall: 0.9092\n",
      "\n",
      "Epoch 00006: saving model to modelo/modelo_mob_1.h5\n",
      "Epoch 7/10\n",
      "128/128 [==============================] - 75s 586ms/step - loss: 0.1852 - accuracy: 0.9312 - precision: 0.9388 - recall: 0.9268 - val_loss: 0.2186 - val_accuracy: 0.9233 - val_precision: 0.9286 - val_recall: 0.9150\n",
      "\n",
      "Epoch 00007: saving model to modelo/modelo_mob_1.h5\n",
      "Epoch 8/10\n",
      "128/128 [==============================] - 76s 593ms/step - loss: 0.1634 - accuracy: 0.9361 - precision: 0.9440 - recall: 0.9278 - val_loss: 0.2184 - val_accuracy: 0.9155 - val_precision: 0.9210 - val_recall: 0.9048\n",
      "\n",
      "Epoch 00008: saving model to modelo/modelo_mob_1.h5\n",
      "Epoch 9/10\n",
      "128/128 [==============================] - 76s 595ms/step - loss: 0.1756 - accuracy: 0.9292 - precision: 0.9352 - recall: 0.9214 - val_loss: 0.2169 - val_accuracy: 0.9165 - val_precision: 0.9245 - val_recall: 0.9087\n",
      "\n",
      "Epoch 00009: saving model to modelo/modelo_mob_1.h5\n",
      "Epoch 10/10\n",
      "128/128 [==============================] - 77s 602ms/step - loss: 0.1712 - accuracy: 0.9342 - precision: 0.9381 - recall: 0.9307 - val_loss: 0.2357 - val_accuracy: 0.9170 - val_precision: 0.9203 - val_recall: 0.9136\n",
      "\n",
      "Epoch 00010: saving model to modelo/modelo_mob_1.h5\n",
      "CPU times: user 34min 42s, sys: 4min 29s, total: 39min 11s\n",
      "Wall time: 12min 9s\n"
     ]
    }
   ],
   "source": [
    "%%time\n",
    "history_mob_1 = modelo_mob_1.fit(dataset_treino,\n",
    "                     steps_per_epoch = len(x_train)//batch_size,\n",
    "                     epochs = 10,\n",
    "                     validation_data = dataset_validation,\n",
    "                     validation_steps = len(y_train)//batch_size,\n",
    "                     callbacks = [checkpoint_mob_1])"
   ]
  },
  {
   "cell_type": "code",
   "execution_count": 116,
   "id": "62ba3090-ecec-42de-b058-98b5f8e0262a",
   "metadata": {},
   "outputs": [
    {
     "data": {
      "text/plain": [
       "Text(0.5, 1.0, 'Training and Validation Accuracy')"
      ]
     },
     "execution_count": 116,
     "metadata": {},
     "output_type": "execute_result"
    },
    {
     "data": {
      "image/png": "[encoded data removed]",
      "text/plain": [
       "<Figure size 576x576 with 1 Axes>"
      ]
     },
     "metadata": {
      "needs_background": "light"
     },
     "output_type": "display_data"
    }
   ],
   "source": [
    "acc = history_mob_1.history['accuracy']\n",
    "val_acc = history_mob_1.history['val_accuracy']\n",
    "\n",
    "epochs_range = range(10)\n",
    "\n",
    "plt.figure(figsize=(8, 8))\n",
    "plt.plot(epochs_range, acc, label='Training Accuracy')\n",
    "plt.plot(epochs_range, val_acc, label='Validation Accuracy')\n",
    "plt.legend(loc='lower right')\n",
    "plt.title('Training and Validation Accuracy')"
   ]
  },
  {
   "cell_type": "markdown",
   "id": "5bd73040-b138-41c6-bfab-ed3c11c38173",
   "metadata": {},
   "source": [
    "#### **Modelo 2**"
   ]
  },
  {
   "cell_type": "code",
   "execution_count": 158,
   "id": "3f8d5774-a128-4de0-b07b-a0b056827c06",
   "metadata": {},
   "outputs": [
    {
     "name": "stdout",
     "output_type": "stream",
     "text": [
      "Epoch 1/10\n",
      "128/128 [==============================] - 69s 524ms/step - loss: 0.5978 - accuracy: 0.7759 - precision: 0.8276 - recall: 0.7312 - val_loss: 0.3089 - val_accuracy: 0.8760 - val_precision: 0.9035 - val_recall: 0.8501\n",
      "\n",
      "Epoch 00001: saving model to modelo/modelo_mob_2.h5\n",
      "Epoch 2/10\n",
      "128/128 [==============================] - 68s 536ms/step - loss: 0.3182 - accuracy: 0.8747 - precision: 0.8959 - recall: 0.8585 - val_loss: 0.2824 - val_accuracy: 0.9009 - val_precision: 0.9107 - val_recall: 0.8760\n",
      "\n",
      "Epoch 00002: saving model to modelo/modelo_mob_2.h5\n",
      "Epoch 3/10\n",
      "128/128 [==============================] - 69s 539ms/step - loss: 0.2750 - accuracy: 0.9047 - precision: 0.9167 - recall: 0.8865 - val_loss: 0.2704 - val_accuracy: 0.8955 - val_precision: 0.9077 - val_recall: 0.8833\n",
      "\n",
      "Epoch 00003: saving model to modelo/modelo_mob_2.h5\n",
      "Epoch 4/10\n",
      "128/128 [==============================] - 69s 542ms/step - loss: 0.2464 - accuracy: 0.8939 - precision: 0.9059 - recall: 0.8850 - val_loss: 0.2216 - val_accuracy: 0.9106 - val_precision: 0.9190 - val_recall: 0.9033\n",
      "\n",
      "Epoch 00004: saving model to modelo/modelo_mob_2.h5\n",
      "Epoch 5/10\n",
      "128/128 [==============================] - 68s 536ms/step - loss: 0.2241 - accuracy: 0.9115 - precision: 0.9192 - recall: 0.9002 - val_loss: 0.2582 - val_accuracy: 0.9077 - val_precision: 0.9130 - val_recall: 0.9019\n",
      "\n",
      "Epoch 00005: saving model to modelo/modelo_mob_2.h5\n",
      "Epoch 6/10\n",
      "128/128 [==============================] - 69s 538ms/step - loss: 0.2212 - accuracy: 0.9066 - precision: 0.9155 - recall: 0.8993 - val_loss: 0.2678 - val_accuracy: 0.9067 - val_precision: 0.9133 - val_recall: 0.9004\n",
      "\n",
      "Epoch 00006: saving model to modelo/modelo_mob_2.h5\n",
      "Epoch 7/10\n",
      "128/128 [==============================] - 70s 549ms/step - loss: 0.2172 - accuracy: 0.9146 - precision: 0.9240 - recall: 0.9082 - val_loss: 0.2196 - val_accuracy: 0.9150 - val_precision: 0.9230 - val_recall: 0.9131\n",
      "\n",
      "Epoch 00007: saving model to modelo/modelo_mob_2.h5\n",
      "Epoch 8/10\n",
      "128/128 [==============================] - 69s 542ms/step - loss: 0.1944 - accuracy: 0.9219 - precision: 0.9289 - recall: 0.9115 - val_loss: 0.2129 - val_accuracy: 0.9233 - val_precision: 0.9301 - val_recall: 0.9224\n",
      "\n",
      "Epoch 00008: saving model to modelo/modelo_mob_2.h5\n",
      "Epoch 9/10\n",
      "128/128 [==============================] - 69s 542ms/step - loss: 0.1975 - accuracy: 0.9194 - precision: 0.9258 - recall: 0.9135 - val_loss: 0.2613 - val_accuracy: 0.8989 - val_precision: 0.9071 - val_recall: 0.8911\n",
      "\n",
      "Epoch 00009: saving model to modelo/modelo_mob_2.h5\n",
      "Epoch 10/10\n",
      "128/128 [==============================] - 66s 519ms/step - loss: 0.1806 - accuracy: 0.9268 - precision: 0.9354 - recall: 0.9184 - val_loss: 0.2383 - val_accuracy: 0.9072 - val_precision: 0.9159 - val_recall: 0.8984\n",
      "\n",
      "Epoch 00010: saving model to modelo/modelo_mob_2.h5\n",
      "CPU times: user 34min 41s, sys: 4min 16s, total: 38min 58s\n",
      "Wall time: 11min 29s\n"
     ]
    }
   ],
   "source": [
    "%%time\n",
    "history_mob_2 = modelo_mob_2.fit(dataset_treino,\n",
    "                     steps_per_epoch = len(x_train)//batch_size,\n",
    "                     epochs = 10,\n",
    "                     validation_data = dataset_validation,\n",
    "                     validation_steps = len(y_train)//batch_size,\n",
    "                     callbacks = [checkpoint_mob_2])"
   ]
  },
  {
   "cell_type": "code",
   "execution_count": 170,
   "id": "db964707-7165-4c9d-ba03-6d16342b1778",
   "metadata": {},
   "outputs": [
    {
     "data": {
      "text/plain": [
       "Text(0.5, 1.0, 'Training and Validation Accuracy')"
      ]
     },
     "execution_count": 170,
     "metadata": {},
     "output_type": "execute_result"
    },
    {
     "data": {
      "image/png": "[encoded data removed]",
      "text/plain": [
       "<Figure size 576x576 with 1 Axes>"
      ]
     },
     "metadata": {
      "needs_background": "light"
     },
     "output_type": "display_data"
    }
   ],
   "source": [
    "acc = history_mob_2.history['accuracy']\n",
    "val_acc = history_mob_2.history['val_accuracy']\n",
    "\n",
    "epochs_range = range(10)\n",
    "\n",
    "plt.figure(figsize=(8, 8))\n",
    "plt.plot(epochs_range, acc, label='Training Accuracy')\n",
    "plt.plot(epochs_range, val_acc, label='Validation Accuracy')\n",
    "plt.legend(loc='lower right')\n",
    "plt.title('Training and Validation Accuracy')"
   ]
  },
  {
   "cell_type": "markdown",
   "id": "51968576-4a07-4070-bf8b-7afc4fb8fe0c",
   "metadata": {},
   "source": [
    "#### **Modelo 3**"
   ]
  },
  {
   "cell_type": "code",
   "execution_count": 171,
   "id": "ca5ecaf0-532f-48c6-9035-bcf4c3d90569",
   "metadata": {},
   "outputs": [
    {
     "name": "stdout",
     "output_type": "stream",
     "text": [
      "Epoch 1/10\n",
      "128/128 [==============================] - 69s 526ms/step - loss: 1.4368 - accuracy: 0.5553 - precision: 0.5754 - recall: 0.5287 - val_loss: 0.4220 - val_accuracy: 0.8276 - val_precision: 0.8564 - val_recall: 0.7949\n",
      "\n",
      "Epoch 00001: saving model to modelo/modelo_mob_3.h5\n",
      "Epoch 2/10\n",
      "128/128 [==============================] - 68s 534ms/step - loss: 0.7444 - accuracy: 0.7528 - precision: 0.7691 - recall: 0.7332 - val_loss: 0.3056 - val_accuracy: 0.8687 - val_precision: 0.8868 - val_recall: 0.8530\n",
      "\n",
      "Epoch 00002: saving model to modelo/modelo_mob_3.h5\n",
      "Epoch 3/10\n",
      "128/128 [==============================] - 69s 543ms/step - loss: 0.6008 - accuracy: 0.7862 - precision: 0.8026 - recall: 0.7690 - val_loss: 0.2751 - val_accuracy: 0.8843 - val_precision: 0.8997 - val_recall: 0.8721\n",
      "\n",
      "Epoch 00003: saving model to modelo/modelo_mob_3.h5\n",
      "Epoch 4/10\n",
      "128/128 [==============================] - 69s 544ms/step - loss: 0.5275 - accuracy: 0.8113 - precision: 0.8281 - recall: 0.7956 - val_loss: 0.2591 - val_accuracy: 0.9009 - val_precision: 0.9121 - val_recall: 0.8818\n",
      "\n",
      "Epoch 00004: saving model to modelo/modelo_mob_3.h5\n",
      "Epoch 5/10\n",
      "128/128 [==============================] - 70s 548ms/step - loss: 0.4849 - accuracy: 0.8246 - precision: 0.8396 - recall: 0.8103 - val_loss: 0.2809 - val_accuracy: 0.8872 - val_precision: 0.9027 - val_recall: 0.8745\n",
      "\n",
      "Epoch 00005: saving model to modelo/modelo_mob_3.h5\n",
      "Epoch 6/10\n",
      "128/128 [==============================] - 70s 550ms/step - loss: 0.4403 - accuracy: 0.8467 - precision: 0.8629 - recall: 0.8319 - val_loss: 0.2345 - val_accuracy: 0.9092 - val_precision: 0.9190 - val_recall: 0.8975\n",
      "\n",
      "Epoch 00006: saving model to modelo/modelo_mob_3.h5\n",
      "Epoch 7/10\n",
      "128/128 [==============================] - 68s 536ms/step - loss: 0.4551 - accuracy: 0.8457 - precision: 0.8576 - recall: 0.8344 - val_loss: 0.2317 - val_accuracy: 0.9062 - val_precision: 0.9220 - val_recall: 0.8999\n",
      "\n",
      "Epoch 00007: saving model to modelo/modelo_mob_3.h5\n",
      "Epoch 8/10\n",
      "128/128 [==============================] - 68s 535ms/step - loss: 0.4200 - accuracy: 0.8413 - precision: 0.8565 - recall: 0.8300 - val_loss: 0.2216 - val_accuracy: 0.9048 - val_precision: 0.9199 - val_recall: 0.8970\n",
      "\n",
      "Epoch 00008: saving model to modelo/modelo_mob_3.h5\n",
      "Epoch 9/10\n",
      "128/128 [==============================] - 69s 543ms/step - loss: 0.4258 - accuracy: 0.8511 - precision: 0.8603 - recall: 0.8354 - val_loss: 0.2227 - val_accuracy: 0.9102 - val_precision: 0.9221 - val_recall: 0.9014\n",
      "\n",
      "Epoch 00009: saving model to modelo/modelo_mob_3.h5\n",
      "Epoch 10/10\n",
      "128/128 [==============================] - 69s 544ms/step - loss: 0.4641 - accuracy: 0.8378 - precision: 0.8513 - recall: 0.8216 - val_loss: 0.2270 - val_accuracy: 0.9038 - val_precision: 0.9214 - val_recall: 0.8926\n",
      "\n",
      "Epoch 00010: saving model to modelo/modelo_mob_3.h5\n",
      "CPU times: user 34min 42s, sys: 4min 17s, total: 39min\n",
      "Wall time: 11min 33s\n"
     ]
    }
   ],
   "source": [
    "%%time\n",
    "history_mob_3 = modelo_mob_3.fit(dataset_treino,\n",
    "                     steps_per_epoch = len(x_train)//batch_size,\n",
    "                     epochs = 10,\n",
    "                     validation_data = dataset_validation,\n",
    "                     validation_steps = len(y_train)//batch_size,\n",
    "                     callbacks = [checkpoint_mob_3])"
   ]
  },
  {
   "cell_type": "code",
   "execution_count": 182,
   "id": "8b56c814-2f7e-4c1a-93dc-08baab799691",
   "metadata": {},
   "outputs": [
    {
     "data": {
      "text/plain": [
       "Text(0.5, 1.0, 'Training and Validation Accuracy')"
      ]
     },
     "execution_count": 182,
     "metadata": {},
     "output_type": "execute_result"
    },
    {
     "data": {
      "image/png": "[encoded data removed]",
      "text/plain": [
       "<Figure size 576x576 with 1 Axes>"
      ]
     },
     "metadata": {
      "needs_background": "light"
     },
     "output_type": "display_data"
    }
   ],
   "source": [
    "acc = history_mob_3.history['accuracy']\n",
    "val_acc = history_mob_3.history['val_accuracy']\n",
    "\n",
    "epochs_range = range(10)\n",
    "\n",
    "plt.figure(figsize=(8, 8))\n",
    "plt.plot(epochs_range, acc, label='Training Accuracy')\n",
    "plt.plot(epochs_range, val_acc, label='Validation Accuracy')\n",
    "plt.legend(loc='lower right')\n",
    "plt.title('Training and Validation Accuracy')"
   ]
  },
  {
   "cell_type": "code",
   "execution_count": 192,
   "id": "b37e50e7-f563-4532-bbf5-a281bdcaa8ec",
   "metadata": {},
   "outputs": [
    {
     "data": {
      "image/png": "[encoded data removed]",
      "text/plain": [
       "<Figure size 576x576 with 2 Axes>"
      ]
     },
     "metadata": {
      "needs_background": "light"
     },
     "output_type": "display_data"
    }
   ],
   "source": [
    "#Gráfico das acurácias dos 3 modelos\n",
    "acc1 = history_mob_1.history['accuracy']\n",
    "acc2 = history_mob_2.history['accuracy']\n",
    "acc3 = history_mob_3.history['accuracy']\n",
    "val_acc1 = history_mob_1.history['val_accuracy']\n",
    "val_acc2 = history_mob_2.history['val_accuracy']\n",
    "val_acc3 = history_mob_3.history['val_accuracy']\n",
    "\n",
    "epochs_range = range(10)\n",
    "\n",
    "plt.figure(figsize=(8, 8))\n",
    "plt.subplot(1, 2, 1)\n",
    "plt.plot(epochs_range, acc1, label='Modelo 1')\n",
    "plt.plot(epochs_range, acc2, label='Modelo 2')\n",
    "plt.plot(epochs_range, acc3, label='Modelo 3')\n",
    "plt.legend(loc='lower right')\n",
    "plt.title('Training Accuracy')\n",
    "\n",
    "plt.subplot(1, 2, 2)\n",
    "plt.plot(epochs_range, val_acc1, label='Modelo 1')\n",
    "plt.plot(epochs_range, val_acc2, label='Modelo 2')\n",
    "plt.plot(epochs_range, val_acc3, label='Modelo 3')\n",
    "plt.legend(loc='lower right')\n",
    "plt.title('Validation Accuracy')\n",
    "plt.show()"
   ]
  },
  {
   "cell_type": "markdown",
   "id": "0c432705-de04-4a75-b4ac-7c0bacb9644a",
   "metadata": {},
   "source": [
    "## **Carregando conjunto de testes**"
   ]
  },
  {
   "cell_type": "code",
   "execution_count": 47,
   "id": "bdcb1a8b-d28a-4fe7-947e-2e4ce74c10b0",
   "metadata": {},
   "outputs": [],
   "source": [
    "#Caminho dos dados\n",
    "caminho_dados_teste = Path(\"dados/teste\")"
   ]
  },
  {
   "cell_type": "code",
   "execution_count": 51,
   "id": "be8198e8-4896-4ffb-8a27-dfa35f251351",
   "metadata": {},
   "outputs": [
    {
     "data": {
      "text/plain": [
       "[PosixPath('dados/teste/Blight/Corn_Blight (1000).JPG'),\n",
       " PosixPath('dados/teste/Blight/Corn_Blight (1001).JPG'),\n",
       " PosixPath('dados/teste/Blight/Corn_Blight (1002).JPG'),\n",
       " PosixPath('dados/teste/Blight/Corn_Blight (1003).JPG'),\n",
       " PosixPath('dados/teste/Blight/Corn_Blight (1004).JPG')]"
      ]
     },
     "execution_count": 51,
     "metadata": {},
     "output_type": "execute_result"
    }
   ],
   "source": [
    "#Todos as imagens\n",
    "imagens_teste = list(caminho_dados_teste.glob(\"*/*\"))\n",
    "imagens_teste[:5]               "
   ]
  },
  {
   "cell_type": "code",
   "execution_count": 52,
   "id": "918aea70-d6e0-4449-9306-ba4c7570b040",
   "metadata": {},
   "outputs": [
    {
     "data": {
      "text/plain": [
       "['dados/teste/Blight/Corn_Blight (1000).JPG',\n",
       " 'dados/teste/Blight/Corn_Blight (1001).JPG',\n",
       " 'dados/teste/Blight/Corn_Blight (1002).JPG',\n",
       " 'dados/teste/Blight/Corn_Blight (1003).JPG',\n",
       " 'dados/teste/Blight/Corn_Blight (1004).JPG']"
      ]
     },
     "execution_count": 52,
     "metadata": {},
     "output_type": "execute_result"
    }
   ],
   "source": [
    "#Retornando apenas a String do PosixPath\n",
    "imagens_teste = list(map(lambda x: str(x), imagens_teste))\n",
    "imagens_teste[:5]"
   ]
  },
  {
   "cell_type": "code",
   "execution_count": 53,
   "id": "4c14e66a-1f43-4491-8a8c-9ad4702bf40d",
   "metadata": {},
   "outputs": [
    {
     "data": {
      "text/plain": [
       "['Blight', 'Blight', 'Blight', 'Blight', 'Blight']"
      ]
     },
     "execution_count": 53,
     "metadata": {},
     "output_type": "execute_result"
    }
   ],
   "source": [
    "#Extraindo os labels de cada classe\n",
    "imagens_teste_labels = [label.split(\"/\")[-2] for label in imagens_teste]\n",
    "imagens_teste_labels[:5]"
   ]
  },
  {
   "cell_type": "code",
   "execution_count": 55,
   "id": "e5bebd28-4775-4353-80eb-9244ab0d755c",
   "metadata": {},
   "outputs": [
    {
     "data": {
      "text/plain": [
       "array([0, 0, 0, 0, 0])"
      ]
     },
     "execution_count": 55,
     "metadata": {},
     "output_type": "execute_result"
    }
   ],
   "source": [
    "#Aplicando label enconding (transformação de dados categóricos para numéricos)\n",
    "imagens_teste_labels = encoder.fit_transform(imagens_teste_labels)\n",
    "imagens_teste_labels[25:30]"
   ]
  },
  {
   "cell_type": "markdown",
   "id": "b637f6e1-d236-4146-be3e-5f805eb4e74d",
   "metadata": {},
   "source": [
    "## **Avaliando os modelos**"
   ]
  },
  {
   "cell_type": "code",
   "execution_count": null,
   "id": "93387e5c-266f-4723-85d4-855538418081",
   "metadata": {},
   "outputs": [],
   "source": [
    "#importando as funções estatísticas\n",
    "from sklearn.metrics import classification_report,accuracy_score, precision_recall_fscore_support"
   ]
  },
  {
   "cell_type": "code",
   "execution_count": 57,
   "id": "04091c47-494f-4db8-8ee6-903981a9af6b",
   "metadata": {},
   "outputs": [],
   "source": [
    "# Função para carregar uma nova imagem\n",
    "def carrega_nova_imagem(image_path):\n",
    "    image = tf.io.read_file(image_path)\n",
    "    image = tf.io.decode_jpeg(image, channels = 3)\n",
    "    image = tf.image.resize(image, [224,224], method = \"bilinear\")\n",
    "    image = tf.expand_dims(image, 0) \n",
    "    return image"
   ]
  },
  {
   "cell_type": "code",
   "execution_count": 61,
   "id": "b7104697-b3dd-48fb-8052-7f3a7bfe7414",
   "metadata": {},
   "outputs": [],
   "source": [
    "# Função para fazer previsões\n",
    "def faz_previsao(image_path, model):\n",
    "    image = carrega_nova_imagem(image_path)\n",
    "    prediction = model.predict(image)\n",
    "    pred = np.argmax(prediction, axis = 1) \n",
    "    return pred[0] "
   ]
  },
  {
   "cell_type": "markdown",
   "id": "57a4d899-aae7-4f71-9925-ae503a6e6032",
   "metadata": {},
   "source": [
    "### **EfficientNetB3**"
   ]
  },
  {
   "cell_type": "markdown",
   "id": "53e945ee-c699-4223-a370-9489c9420015",
   "metadata": {},
   "source": [
    "#### **Modelo 1**"
   ]
  },
  {
   "cell_type": "code",
   "execution_count": 99,
   "id": "013e1023-4a42-4884-abac-4ba6656399bd",
   "metadata": {},
   "outputs": [],
   "source": [
    "# Carrega os pesos do ponto de verificação e reavalie\n",
    "modelo_b3_1.layers[0].trainable = True\n",
    "modelo_salvo_b3_1 = modelo_b3_1\n",
    "modelo_salvo_b3_1.load_weights(\"modelo/modelob3_1.h5\")"
   ]
  },
  {
   "cell_type": "code",
   "execution_count": 128,
   "id": "a8dd4387-9e97-4b34-b2bb-39fd2ab74013",
   "metadata": {},
   "outputs": [],
   "source": [
    "# Previsão - Modelo 1\n",
    "previsoes = []\n",
    "for img in imagens_teste:\n",
    "    previsoes.append(faz_previsao(img, modelo_salvo_b3_1))"
   ]
  },
  {
   "cell_type": "code",
   "execution_count": 101,
   "id": "5a26f132-ae29-45b3-8ba2-4f5138d40a79",
   "metadata": {},
   "outputs": [
    {
     "name": "stdout",
     "output_type": "stream",
     "text": [
      "0.9021479713603818\n",
      "(array([0.7704918 , 0.97112861, 0.88333333, 1.        ]), array([0.95639535, 0.94387755, 0.61627907, 0.94269341]), array([0.85343709, 0.95730918, 0.7260274 , 0.97050147]), array([344, 392, 172, 349]))\n"
     ]
    }
   ],
   "source": [
    "print(accuracy_score(imagens_teste_labels, previsoes))\n",
    "print(precision_recall_fscore_support(imagens_teste_labels, previsoes))"
   ]
  },
  {
   "cell_type": "code",
   "execution_count": 102,
   "id": "e6919f47-fe6f-4643-958b-258446975571",
   "metadata": {},
   "outputs": [
    {
     "name": "stdout",
     "output_type": "stream",
     "text": [
      "              precision    recall  f1-score   support\n",
      "\n",
      "           0       0.77      0.96      0.85       344\n",
      "           1       0.97      0.94      0.96       392\n",
      "           2       0.88      0.62      0.73       172\n",
      "           3       1.00      0.94      0.97       349\n",
      "\n",
      "    accuracy                           0.90      1257\n",
      "   macro avg       0.91      0.86      0.88      1257\n",
      "weighted avg       0.91      0.90      0.90      1257\n",
      "\n"
     ]
    }
   ],
   "source": [
    "print(classification_report(imagens_teste_labels, previsoes))"
   ]
  },
  {
   "cell_type": "markdown",
   "id": "16f90bc1-b168-4d41-9815-c689c02acaef",
   "metadata": {},
   "source": [
    "#### **Modelo 2**"
   ]
  },
  {
   "cell_type": "code",
   "execution_count": 129,
   "id": "3f60ac03-9b60-428a-84ec-80f28e450bc4",
   "metadata": {},
   "outputs": [],
   "source": [
    "# Carrega os pesos do ponto de verificação e reavalie\n",
    "modelo_b3_2.layers[0].trainable = True\n",
    "modelo_salvo_b3_2 = modelo_b3_2\n",
    "modelo_salvo_b3_2.load_weights(\"modelo/modelob3_2.h5\")"
   ]
  },
  {
   "cell_type": "code",
   "execution_count": 130,
   "id": "8d9157c4-95fd-484a-80fe-67428870f437",
   "metadata": {},
   "outputs": [],
   "source": [
    "# Previsão - Modelo 2\n",
    "previsoes = []\n",
    "for img in imagens_teste:\n",
    "    previsoes.append(faz_previsao(img, modelo_salvo_b3_2))"
   ]
  },
  {
   "cell_type": "code",
   "execution_count": 131,
   "id": "7aa7049a-2e28-4a0b-a6cf-596b6bef1b0c",
   "metadata": {},
   "outputs": [
    {
     "name": "stdout",
     "output_type": "stream",
     "text": [
      "0.8814638027048528\n",
      "(array([0.71888412, 0.96596859, 0.94594595, 0.99701493]), array([0.97383721, 0.94132653, 0.40697674, 0.95702006]), array([0.82716049, 0.95348837, 0.56910569, 0.97660819]), array([344, 392, 172, 349]))\n"
     ]
    }
   ],
   "source": [
    "print(accuracy_score(imagens_teste_labels, previsoes))\n",
    "print(precision_recall_fscore_support(imagens_teste_labels, previsoes))"
   ]
  },
  {
   "cell_type": "code",
   "execution_count": 132,
   "id": "6a33a6c5-c522-4f94-9a5a-b0d130d7b034",
   "metadata": {},
   "outputs": [
    {
     "name": "stdout",
     "output_type": "stream",
     "text": [
      "              precision    recall  f1-score   support\n",
      "\n",
      "           0       0.72      0.97      0.83       344\n",
      "           1       0.97      0.94      0.95       392\n",
      "           2       0.95      0.41      0.57       172\n",
      "           3       1.00      0.96      0.98       349\n",
      "\n",
      "    accuracy                           0.88      1257\n",
      "   macro avg       0.91      0.82      0.83      1257\n",
      "weighted avg       0.90      0.88      0.87      1257\n",
      "\n"
     ]
    }
   ],
   "source": [
    "print(classification_report(imagens_teste_labels, previsoes))"
   ]
  },
  {
   "cell_type": "markdown",
   "id": "1eb2fac4-1c16-4d75-84bb-e27f8c5cf3a0",
   "metadata": {},
   "source": [
    "#### **Modelo 3**"
   ]
  },
  {
   "cell_type": "code",
   "execution_count": 139,
   "id": "e9dbbed3-602a-44a4-af84-aa788d2dfb69",
   "metadata": {},
   "outputs": [],
   "source": [
    "# Carrega os pesos do ponto de verificação e reavalie\n",
    "modelo_b3_3.layers[0].trainable = True\n",
    "modelo_salvo_b3_3 = modelo_b3_3\n",
    "modelo_salvo_b3_3.load_weights(\"modelo/modelob3_3.h5\")"
   ]
  },
  {
   "cell_type": "code",
   "execution_count": 140,
   "id": "b51abfc9-eb45-4903-8b0c-7038a72e7dbe",
   "metadata": {},
   "outputs": [],
   "source": [
    "# Previsão - Modelo 2\n",
    "previsoes = []\n",
    "for img in imagens_teste:\n",
    "    previsoes.append(faz_previsao(img, modelo_salvo_b3_3))"
   ]
  },
  {
   "cell_type": "code",
   "execution_count": 141,
   "id": "c416c748-5faa-4e7f-85f2-5c963bc8d157",
   "metadata": {},
   "outputs": [
    {
     "name": "stdout",
     "output_type": "stream",
     "text": [
      "0.8695306284805091\n",
      "(array([0.70299145, 0.97311828, 0.84946237, 0.99691358]), array([0.95639535, 0.92346939, 0.45930233, 0.92550143]), array([0.81034483, 0.94764398, 0.59622642, 0.95988113]), array([344, 392, 172, 349]))\n"
     ]
    }
   ],
   "source": [
    "print(accuracy_score(imagens_teste_labels, previsoes))\n",
    "print(precision_recall_fscore_support(imagens_teste_labels, previsoes))"
   ]
  },
  {
   "cell_type": "code",
   "execution_count": 142,
   "id": "135831f8-0de4-4863-b63e-39a961654a68",
   "metadata": {},
   "outputs": [
    {
     "name": "stdout",
     "output_type": "stream",
     "text": [
      "              precision    recall  f1-score   support\n",
      "\n",
      "           0       0.70      0.96      0.81       344\n",
      "           1       0.97      0.92      0.95       392\n",
      "           2       0.85      0.46      0.60       172\n",
      "           3       1.00      0.93      0.96       349\n",
      "\n",
      "    accuracy                           0.87      1257\n",
      "   macro avg       0.88      0.82      0.83      1257\n",
      "weighted avg       0.89      0.87      0.87      1257\n",
      "\n"
     ]
    }
   ],
   "source": [
    "print(classification_report(imagens_teste_labels, previsoes))"
   ]
  },
  {
   "cell_type": "markdown",
   "id": "8796cc3f-069d-4de6-96f8-3d17c2c7f380",
   "metadata": {},
   "source": [
    "### **ResNet50**"
   ]
  },
  {
   "cell_type": "markdown",
   "id": "480470e8-6b77-4e06-a2c0-ba966899316b",
   "metadata": {},
   "source": [
    "#### **Modelo 1**"
   ]
  },
  {
   "cell_type": "code",
   "execution_count": 103,
   "id": "2691889c-b4ad-4c3b-bef5-88938581f39a",
   "metadata": {},
   "outputs": [],
   "source": [
    "# Carrega os pesos do ponto de verificação e reavalie\n",
    "modelo_res_1.layers[0].trainable = True\n",
    "modelo_salvo_res_1 = modelo_res_1\n",
    "modelo_salvo_res_1.load_weights(\"modelo/modelo_res_1.h5\")"
   ]
  },
  {
   "cell_type": "code",
   "execution_count": 104,
   "id": "85964c9c-866e-4a5d-a3b9-ecaf78c79347",
   "metadata": {},
   "outputs": [],
   "source": [
    "# Previsão\n",
    "previsoes = []\n",
    "for img in imagens_teste:\n",
    "    previsoes.append(faz_previsao(img, modelo_salvo_res_1))"
   ]
  },
  {
   "cell_type": "code",
   "execution_count": 105,
   "id": "9e4ea755-164d-4399-bcc2-8e1135960163",
   "metadata": {},
   "outputs": [
    {
     "name": "stdout",
     "output_type": "stream",
     "text": [
      "0.9180588703261734\n",
      "(array([0.79107981, 0.97692308, 0.95744681, 0.99711816]), array([0.97965116, 0.97193878, 0.52325581, 0.99140401]), array([0.87532468, 0.97442455, 0.67669173, 0.99425287]), array([344, 392, 172, 349]))\n"
     ]
    }
   ],
   "source": [
    "print(accuracy_score(imagens_teste_labels, previsoes))\n",
    "print(precision_recall_fscore_support(imagens_teste_labels, previsoes))"
   ]
  },
  {
   "cell_type": "code",
   "execution_count": 106,
   "id": "cab41b9a-b767-4801-8c2a-7165224ec3a1",
   "metadata": {},
   "outputs": [
    {
     "name": "stdout",
     "output_type": "stream",
     "text": [
      "              precision    recall  f1-score   support\n",
      "\n",
      "           0       0.79      0.98      0.88       344\n",
      "           1       0.98      0.97      0.97       392\n",
      "           2       0.96      0.52      0.68       172\n",
      "           3       1.00      0.99      0.99       349\n",
      "\n",
      "    accuracy                           0.92      1257\n",
      "   macro avg       0.93      0.87      0.88      1257\n",
      "weighted avg       0.93      0.92      0.91      1257\n",
      "\n"
     ]
    }
   ],
   "source": [
    "print(classification_report(imagens_teste_labels, previsoes))"
   ]
  },
  {
   "cell_type": "markdown",
   "id": "cb759a86-294d-438c-99c9-cf91a82b4a4f",
   "metadata": {},
   "source": [
    "#### **Modelo 2**"
   ]
  },
  {
   "cell_type": "code",
   "execution_count": 149,
   "id": "5026fad7-4cbf-4e4f-8fee-dceb7257e425",
   "metadata": {},
   "outputs": [],
   "source": [
    "# Carrega os pesos do ponto de verificação e reavalie\n",
    "modelo_res_2.layers[0].trainable = True\n",
    "modelo_salvo_res_2 = modelo_res_2\n",
    "modelo_salvo_res_2.load_weights(\"modelo/modelo_res_2.h5\")"
   ]
  },
  {
   "cell_type": "code",
   "execution_count": 150,
   "id": "0991afaf-cd4e-4e84-8ff7-44808b2b933b",
   "metadata": {},
   "outputs": [],
   "source": [
    "# Previsão - Modelo 2\n",
    "previsoes = []\n",
    "for img in imagens_teste:\n",
    "    previsoes.append(faz_previsao(img, modelo_salvo_res_2))"
   ]
  },
  {
   "cell_type": "code",
   "execution_count": 151,
   "id": "b1efa6d5-45b5-428a-bcc6-91bd2e0ab138",
   "metadata": {},
   "outputs": [
    {
     "name": "stdout",
     "output_type": "stream",
     "text": [
      "0.8727128082736675\n",
      "(array([0.68888889, 0.99186992, 0.95652174, 0.99711816]), array([0.99127907, 0.93367347, 0.25581395, 0.99140401]), array([0.81287247, 0.96189225, 0.40366972, 0.99425287]), array([344, 392, 172, 349]))\n"
     ]
    }
   ],
   "source": [
    "print(accuracy_score(imagens_teste_labels, previsoes))\n",
    "print(precision_recall_fscore_support(imagens_teste_labels, previsoes))"
   ]
  },
  {
   "cell_type": "code",
   "execution_count": 152,
   "id": "a8ac6275-ae28-4274-b534-d4b6feb66130",
   "metadata": {},
   "outputs": [
    {
     "name": "stdout",
     "output_type": "stream",
     "text": [
      "              precision    recall  f1-score   support\n",
      "\n",
      "           0       0.69      0.99      0.81       344\n",
      "           1       0.99      0.93      0.96       392\n",
      "           2       0.96      0.26      0.40       172\n",
      "           3       1.00      0.99      0.99       349\n",
      "\n",
      "    accuracy                           0.87      1257\n",
      "   macro avg       0.91      0.79      0.79      1257\n",
      "weighted avg       0.91      0.87      0.85      1257\n",
      "\n"
     ]
    }
   ],
   "source": [
    "print(classification_report(imagens_teste_labels, previsoes))"
   ]
  },
  {
   "cell_type": "markdown",
   "id": "ee0df15c-effa-44e2-886e-cbc6b79df179",
   "metadata": {},
   "source": [
    "#### **Modelo 3**"
   ]
  },
  {
   "cell_type": "code",
   "execution_count": 185,
   "id": "f354169e-cce5-4680-aae8-ff9382adc3ac",
   "metadata": {},
   "outputs": [],
   "source": [
    "# Carrega os pesos do ponto de verificação e reavalie\n",
    "modelo_res_3.layers[0].trainable = True\n",
    "modelo_salvo_res_3 = modelo_res_3\n",
    "modelo_salvo_res_3.load_weights(\"modelo/modelo_res_3.h5\")"
   ]
  },
  {
   "cell_type": "code",
   "execution_count": 186,
   "id": "171902ef-bd07-4874-8074-87f57ad116c7",
   "metadata": {},
   "outputs": [],
   "source": [
    "# Previsão - Modelo 3\n",
    "previsoes = []\n",
    "for img in imagens_teste:\n",
    "    previsoes.append(faz_previsao(img, modelo_salvo_res_3))"
   ]
  },
  {
   "cell_type": "code",
   "execution_count": 187,
   "id": "19d581d3-13c1-4803-9d72-db749b6f1d96",
   "metadata": {},
   "outputs": [
    {
     "name": "stdout",
     "output_type": "stream",
     "text": [
      "0.9196499602227526\n",
      "(array([0.80434783, 0.96923077, 0.93457944, 0.99710983]), array([0.96802326, 0.96428571, 0.58139535, 0.98853868]), array([0.87862797, 0.96675192, 0.71684588, 0.99280576]), array([344, 392, 172, 349]))\n"
     ]
    }
   ],
   "source": [
    "print(accuracy_score(imagens_teste_labels, previsoes))\n",
    "print(precision_recall_fscore_support(imagens_teste_labels, previsoes))"
   ]
  },
  {
   "cell_type": "code",
   "execution_count": 188,
   "id": "2f151b23-a49c-4d1e-83f9-e7452dd0ae73",
   "metadata": {},
   "outputs": [
    {
     "name": "stdout",
     "output_type": "stream",
     "text": [
      "              precision    recall  f1-score   support\n",
      "\n",
      "           0       0.80      0.97      0.88       344\n",
      "           1       0.97      0.96      0.97       392\n",
      "           2       0.93      0.58      0.72       172\n",
      "           3       1.00      0.99      0.99       349\n",
      "\n",
      "    accuracy                           0.92      1257\n",
      "   macro avg       0.93      0.88      0.89      1257\n",
      "weighted avg       0.93      0.92      0.92      1257\n",
      "\n"
     ]
    }
   ],
   "source": [
    "print(classification_report(imagens_teste_labels, previsoes))"
   ]
  },
  {
   "cell_type": "markdown",
   "id": "5bde0714-5e90-4b97-99a3-452aff582dc1",
   "metadata": {},
   "source": [
    "### **MobileNetV2**"
   ]
  },
  {
   "cell_type": "markdown",
   "id": "e146dfca-120a-4cf1-af49-a405c20e6acc",
   "metadata": {},
   "source": [
    "#### **Modelo 1**"
   ]
  },
  {
   "cell_type": "code",
   "execution_count": 117,
   "id": "feb42a48-a496-45b9-b82b-a79014da32d2",
   "metadata": {},
   "outputs": [],
   "source": [
    "# Carrega os pesos do ponto de verificação e reavalie\n",
    "modelo_mob_1.layers[0].trainable = True\n",
    "modelo_salvo_mob_1 = modelo_mob_1\n",
    "modelo_salvo_mob_1.load_weights(\"modelo/modelo_mob_1.h5\")"
   ]
  },
  {
   "cell_type": "code",
   "execution_count": 118,
   "id": "d6258435-f846-4a35-abf6-65f2e9c20d4a",
   "metadata": {},
   "outputs": [],
   "source": [
    "# Previsão\n",
    "previsoes = []\n",
    "for img in imagens_teste:\n",
    "    previsoes.append(faz_previsao(img, modelo_salvo_mob_1))"
   ]
  },
  {
   "cell_type": "code",
   "execution_count": 119,
   "id": "eb8a37e8-0361-4cbb-b2e1-858b28cbd9a7",
   "metadata": {},
   "outputs": [
    {
     "name": "stdout",
     "output_type": "stream",
     "text": [
      "0.8973747016706444\n",
      "(array([0.75      , 0.97402597, 0.91666667, 0.99425287]), array([0.95930233, 0.95663265, 0.44767442, 0.99140401]), array([0.84183673, 0.96525097, 0.6015625 , 0.9928264 ]), array([344, 392, 172, 349]))\n"
     ]
    }
   ],
   "source": [
    "print(accuracy_score(imagens_teste_labels, previsoes))\n",
    "print(precision_recall_fscore_support(imagens_teste_labels, previsoes))"
   ]
  },
  {
   "cell_type": "code",
   "execution_count": 120,
   "id": "eceaa441-7b0f-41c3-9e67-4158538d07c2",
   "metadata": {},
   "outputs": [
    {
     "name": "stdout",
     "output_type": "stream",
     "text": [
      "              precision    recall  f1-score   support\n",
      "\n",
      "           0       0.75      0.96      0.84       344\n",
      "           1       0.97      0.96      0.97       392\n",
      "           2       0.92      0.45      0.60       172\n",
      "           3       0.99      0.99      0.99       349\n",
      "\n",
      "    accuracy                           0.90      1257\n",
      "   macro avg       0.91      0.84      0.85      1257\n",
      "weighted avg       0.91      0.90      0.89      1257\n",
      "\n"
     ]
    }
   ],
   "source": [
    "print(classification_report(imagens_teste_labels, previsoes))"
   ]
  },
  {
   "cell_type": "markdown",
   "id": "e28ffcf4-a92e-403d-983e-7ac39d798af3",
   "metadata": {},
   "source": [
    "#### **Modelo 2**"
   ]
  },
  {
   "cell_type": "code",
   "execution_count": 159,
   "id": "fd9d1d5d-8a92-4748-a587-2db8ac51d71c",
   "metadata": {},
   "outputs": [],
   "source": [
    "# Carrega os pesos do ponto de verificação e reavalie\n",
    "modelo_mob_2.layers[0].trainable = True\n",
    "modelo_salvo_mob_2 = modelo_mob_2\n",
    "modelo_salvo_mob_2.load_weights(\"modelo/modelo_mob_2.h5\")"
   ]
  },
  {
   "cell_type": "code",
   "execution_count": 160,
   "id": "e7bc99e4-7b6d-40d2-80f2-0c11d5d1ad12",
   "metadata": {},
   "outputs": [],
   "source": [
    "# Previsão - Modelo 2\n",
    "previsoes = []\n",
    "for img in imagens_teste:\n",
    "    previsoes.append(faz_previsao(img, modelo_salvo_mob_2))"
   ]
  },
  {
   "cell_type": "code",
   "execution_count": 161,
   "id": "1bf94eac-2aa3-466b-a309-1c7aff93ed60",
   "metadata": {},
   "outputs": [
    {
     "name": "stdout",
     "output_type": "stream",
     "text": [
      "0.8933969769291965\n",
      "(array([0.7454955 , 0.96899225, 0.91566265, 0.9941691 ]), array([0.9622093 , 0.95663265, 0.44186047, 0.97707736]), array([0.84010152, 0.96277279, 0.59607843, 0.98554913]), array([344, 392, 172, 349]))\n"
     ]
    }
   ],
   "source": [
    "print(accuracy_score(imagens_teste_labels, previsoes))\n",
    "print(precision_recall_fscore_support(imagens_teste_labels, previsoes))"
   ]
  },
  {
   "cell_type": "code",
   "execution_count": 162,
   "id": "9f60b147-d05f-4192-b621-72f5a44ff7ac",
   "metadata": {},
   "outputs": [
    {
     "name": "stdout",
     "output_type": "stream",
     "text": [
      "              precision    recall  f1-score   support\n",
      "\n",
      "           0       0.75      0.96      0.84       344\n",
      "           1       0.97      0.96      0.96       392\n",
      "           2       0.92      0.44      0.60       172\n",
      "           3       0.99      0.98      0.99       349\n",
      "\n",
      "    accuracy                           0.89      1257\n",
      "   macro avg       0.91      0.83      0.85      1257\n",
      "weighted avg       0.91      0.89      0.89      1257\n",
      "\n"
     ]
    }
   ],
   "source": [
    "print(classification_report(imagens_teste_labels, previsoes))"
   ]
  },
  {
   "cell_type": "markdown",
   "id": "5717b6ae-064c-4cc5-955b-87e23bd7f0d8",
   "metadata": {},
   "source": [
    "#### **Modelo 3**"
   ]
  },
  {
   "cell_type": "code",
   "execution_count": 173,
   "id": "3f793e70-9a99-4a82-a2e9-3b67d15e0e87",
   "metadata": {},
   "outputs": [],
   "source": [
    "# Carrega os pesos do ponto de verificação e reavalie\n",
    "modelo_mob_3.layers[0].trainable = True\n",
    "modelo_salvo_mob_3 = modelo_mob_3\n",
    "modelo_salvo_mob_3.load_weights(\"modelo/modelo_mob_3.h5\")"
   ]
  },
  {
   "cell_type": "code",
   "execution_count": 174,
   "id": "934c0933-29b8-4830-8824-1e0dead3fd89",
   "metadata": {},
   "outputs": [],
   "source": [
    "# Previsão - Modelo 3\n",
    "previsoes = []\n",
    "for img in imagens_teste:\n",
    "    previsoes.append(faz_previsao(img, modelo_salvo_mob_3))"
   ]
  },
  {
   "cell_type": "code",
   "execution_count": 175,
   "id": "c45c133e-bf57-4dff-833f-5967ebd1fb4a",
   "metadata": {},
   "outputs": [
    {
     "name": "stdout",
     "output_type": "stream",
     "text": [
      "0.8926014319809069\n",
      "(array([0.74886878, 0.96569921, 0.89772727, 0.99425287]), array([0.9622093 , 0.93367347, 0.45930233, 0.99140401]), array([0.84223919, 0.94941634, 0.60769231, 0.9928264 ]), array([344, 392, 172, 349]))\n"
     ]
    }
   ],
   "source": [
    "print(accuracy_score(imagens_teste_labels, previsoes))\n",
    "print(precision_recall_fscore_support(imagens_teste_labels, previsoes))"
   ]
  },
  {
   "cell_type": "code",
   "execution_count": 176,
   "id": "f8317e1d-efee-499c-ba8a-02a434c658c9",
   "metadata": {},
   "outputs": [
    {
     "name": "stdout",
     "output_type": "stream",
     "text": [
      "              precision    recall  f1-score   support\n",
      "\n",
      "           0       0.75      0.96      0.84       344\n",
      "           1       0.97      0.93      0.95       392\n",
      "           2       0.90      0.46      0.61       172\n",
      "           3       0.99      0.99      0.99       349\n",
      "\n",
      "    accuracy                           0.89      1257\n",
      "   macro avg       0.90      0.84      0.85      1257\n",
      "weighted avg       0.90      0.89      0.89      1257\n",
      "\n"
     ]
    }
   ],
   "source": [
    "print(classification_report(imagens_teste_labels, previsoes))"
   ]
  }
 ],
 "metadata": {
  "kernelspec": {
   "display_name": "Python 3 (ipykernel)",
   "language": "python",
   "name": "python3"
  },
  "language_info": {
   "codemirror_mode": {
    "name": "ipython",
    "version": 3
   },
   "file_extension": ".py",
   "mimetype": "text/x-python",
   "name": "python",
   "nbconvert_exporter": "python",
   "pygments_lexer": "ipython3",
   "version": "3.8.12"
  }
 },
 "nbformat": 4,
 "nbformat_minor": 5
}
